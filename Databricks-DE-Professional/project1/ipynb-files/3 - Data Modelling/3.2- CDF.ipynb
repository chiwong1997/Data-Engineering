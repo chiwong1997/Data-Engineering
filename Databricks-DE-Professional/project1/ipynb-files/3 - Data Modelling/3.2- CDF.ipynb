{
 "cells": [
  {
   "cell_type": "markdown",
   "metadata": {
    "application/vnd.databricks.v1+cell": {
     "cellMetadata": {},
     "inputWidgets": {},
     "nuid": "fa9a69f0-c5c4-4eb7-a2b3-243b726f1416",
     "showTitle": false,
     "tableResultSettingsMap": {},
     "title": ""
    }
   },
   "source": [
    "\n",
    "<div  style=\"text-align: center; line-height: 0; padding-top: 9px;\">\n",
    "  <img src=\"https://raw.githubusercontent.com/derar-alhussein/Databricks-Certified-Data-Engineer-Professional/main/Includes/images/CDF.png\" width=\"60%\">\n",
    "</div>"
   ]
  },
  {
   "cell_type": "code",
   "execution_count": 0,
   "metadata": {
    "application/vnd.databricks.v1+cell": {
     "cellMetadata": {
      "byteLimit": 2048000,
      "rowLimit": 10000
     },
     "inputWidgets": {},
     "nuid": "3775841d-74a8-4c94-b439-ee177e4e3baa",
     "showTitle": false,
     "tableResultSettingsMap": {},
     "title": ""
    }
   },
   "outputs": [],
   "source": [
    "%run ../Includes/Copy-Datasets"
   ]
  },
  {
   "cell_type": "markdown",
   "metadata": {
    "application/vnd.databricks.v1+cell": {
     "cellMetadata": {},
     "inputWidgets": {},
     "nuid": "21f12718-85b0-4943-9d1f-b273ca163f54",
     "showTitle": false,
     "tableResultSettingsMap": {},
     "title": ""
    }
   },
   "source": [
    "We want to use our delta command and set the change data feed option to be true - this will allow us to use the change data feed command "
   ]
  },
  {
   "cell_type": "code",
   "execution_count": 0,
   "metadata": {
    "application/vnd.databricks.v1+cell": {
     "cellMetadata": {
      "byteLimit": 2048000,
      "implicitDf": true,
      "rowLimit": 10000
     },
     "inputWidgets": {},
     "nuid": "dc72e7eb-866b-4f6e-a29b-fb411dec83f1",
     "showTitle": false,
     "tableResultSettingsMap": {},
     "title": ""
    }
   },
   "outputs": [
    {
     "output_type": "display_data",
     "data": {
      "text/html": [
       "<style scoped>\n",
       "  .table-result-container {\n",
       "    max-height: 300px;\n",
       "    overflow: auto;\n",
       "  }\n",
       "  table, th, td {\n",
       "    border: 1px solid black;\n",
       "    border-collapse: collapse;\n",
       "  }\n",
       "  th, td {\n",
       "    padding: 5px;\n",
       "  }\n",
       "  th {\n",
       "    text-align: left;\n",
       "  }\n",
       "</style><div class='table-result-container'><table class='table-result'><thead style='background-color: white'><tr></tr></thead><tbody></tbody></table></div>"
      ]
     },
     "metadata": {
      "application/vnd.databricks.v1+output": {
       "addedWidgets": {},
       "aggData": [],
       "aggError": "",
       "aggOverflow": false,
       "aggSchema": [],
       "aggSeriesLimitReached": false,
       "aggType": "",
       "arguments": {},
       "columnCustomDisplayInfos": {},
       "data": [],
       "datasetInfos": [],
       "dbfsResultPath": null,
       "isJsonSchema": true,
       "metadata": {
        "dataframeName": null
       },
       "overflow": false,
       "plotOptions": {
        "customPlotOptions": {},
        "displayType": "table",
        "pivotAggregation": null,
        "pivotColumns": null,
        "xColumns": null,
        "yColumns": null
       },
       "removedWidgets": [],
       "schema": [],
       "type": "table"
      }
     },
     "output_type": "display_data"
    }
   ],
   "source": [
    "%sql\n",
    "ALTER TABLE customers_silver \n",
    "SET TBLPROPERTIES (delta.enableChangeDataFeed = true);"
   ]
  },
  {
   "cell_type": "markdown",
   "metadata": {
    "application/vnd.databricks.v1+cell": {
     "cellMetadata": {},
     "inputWidgets": {},
     "nuid": "1306eb5c-d98d-4c8e-bbfa-0d8c3184207f",
     "showTitle": false,
     "tableResultSettingsMap": {},
     "title": ""
    }
   },
   "source": [
    "Check that CDF has been enabled in the table properties"
   ]
  },
  {
   "cell_type": "code",
   "execution_count": 0,
   "metadata": {
    "application/vnd.databricks.v1+cell": {
     "cellMetadata": {
      "byteLimit": 2048000,
      "implicitDf": true,
      "rowLimit": 10000
     },
     "inputWidgets": {},
     "nuid": "c09dd8c2-2883-4db9-97e2-16027c34effb",
     "showTitle": false,
     "tableResultSettingsMap": {},
     "title": ""
    }
   },
   "outputs": [
    {
     "output_type": "display_data",
     "data": {
      "text/html": [
       "<style scoped>\n",
       "  .table-result-container {\n",
       "    max-height: 300px;\n",
       "    overflow: auto;\n",
       "  }\n",
       "  table, th, td {\n",
       "    border: 1px solid black;\n",
       "    border-collapse: collapse;\n",
       "  }\n",
       "  th, td {\n",
       "    padding: 5px;\n",
       "  }\n",
       "  th {\n",
       "    text-align: left;\n",
       "  }\n",
       "</style><div class='table-result-container'><table class='table-result'><thead style='background-color: white'><tr><th>col_name</th><th>data_type</th><th>comment</th></tr></thead><tbody><tr><td>customer_id</td><td>string</td><td>null</td></tr><tr><td>email</td><td>string</td><td>null</td></tr><tr><td>first_name</td><td>string</td><td>null</td></tr><tr><td>last_name</td><td>string</td><td>null</td></tr><tr><td>gender</td><td>string</td><td>null</td></tr><tr><td>street</td><td>string</td><td>null</td></tr><tr><td>city</td><td>string</td><td>null</td></tr><tr><td>country</td><td>string</td><td>null</td></tr><tr><td>row_time</td><td>timestamp</td><td>null</td></tr><tr><td></td><td></td><td></td></tr><tr><td># Delta Statistics Columns</td><td></td><td></td></tr><tr><td>Column Names</td><td>first_name, city, customer_id, email, country, row_time, last_name, street, gender</td><td></td></tr><tr><td>Column Selection Method</td><td>first-32</td><td></td></tr><tr><td></td><td></td><td></td></tr><tr><td># Detailed Table Information</td><td></td><td></td></tr><tr><td>Catalog</td><td>hive_metastore</td><td></td></tr><tr><td>Database</td><td>bookstore_eng_pro</td><td></td></tr><tr><td>Table</td><td>customers_silver</td><td></td></tr><tr><td>Created Time</td><td>Sun Nov 10 10:40:19 UTC 2024</td><td></td></tr><tr><td>Last Access</td><td>UNKNOWN</td><td></td></tr><tr><td>Created By</td><td>Spark 3.4.1</td><td></td></tr><tr><td>Statistics</td><td>67371 bytes</td><td></td></tr><tr><td>Type</td><td>MANAGED</td><td></td></tr><tr><td>Location</td><td>dbfs:/user/hive/warehouse/bookstore_eng_pro.db/customers_silver</td><td></td></tr><tr><td>Provider</td><td>delta</td><td></td></tr><tr><td>Owner</td><td>root</td><td></td></tr><tr><td>Is_managed_location</td><td>true</td><td></td></tr><tr><td>Table Properties</td><td>[delta.enableChangeDataFeed=true,delta.minReaderVersion=1,delta.minWriterVersion=4]</td><td></td></tr></tbody></table></div>"
      ]
     },
     "metadata": {
      "application/vnd.databricks.v1+output": {
       "addedWidgets": {},
       "aggData": [],
       "aggError": "",
       "aggOverflow": false,
       "aggSchema": [],
       "aggSeriesLimitReached": false,
       "aggType": "",
       "arguments": {},
       "columnCustomDisplayInfos": {},
       "data": [
        [
         "customer_id",
         "string",
         null
        ],
        [
         "email",
         "string",
         null
        ],
        [
         "first_name",
         "string",
         null
        ],
        [
         "last_name",
         "string",
         null
        ],
        [
         "gender",
         "string",
         null
        ],
        [
         "street",
         "string",
         null
        ],
        [
         "city",
         "string",
         null
        ],
        [
         "country",
         "string",
         null
        ],
        [
         "row_time",
         "timestamp",
         null
        ],
        [
         "",
         "",
         ""
        ],
        [
         "# Delta Statistics Columns",
         "",
         ""
        ],
        [
         "Column Names",
         "first_name, city, customer_id, email, country, row_time, last_name, street, gender",
         ""
        ],
        [
         "Column Selection Method",
         "first-32",
         ""
        ],
        [
         "",
         "",
         ""
        ],
        [
         "# Detailed Table Information",
         "",
         ""
        ],
        [
         "Catalog",
         "hive_metastore",
         ""
        ],
        [
         "Database",
         "bookstore_eng_pro",
         ""
        ],
        [
         "Table",
         "customers_silver",
         ""
        ],
        [
         "Created Time",
         "Sun Nov 10 10:40:19 UTC 2024",
         ""
        ],
        [
         "Last Access",
         "UNKNOWN",
         ""
        ],
        [
         "Created By",
         "Spark 3.4.1",
         ""
        ],
        [
         "Statistics",
         "67371 bytes",
         ""
        ],
        [
         "Type",
         "MANAGED",
         ""
        ],
        [
         "Location",
         "dbfs:/user/hive/warehouse/bookstore_eng_pro.db/customers_silver",
         ""
        ],
        [
         "Provider",
         "delta",
         ""
        ],
        [
         "Owner",
         "root",
         ""
        ],
        [
         "Is_managed_location",
         "true",
         ""
        ],
        [
         "Table Properties",
         "[delta.enableChangeDataFeed=true,delta.minReaderVersion=1,delta.minWriterVersion=4]",
         ""
        ]
       ],
       "datasetInfos": [],
       "dbfsResultPath": null,
       "isJsonSchema": true,
       "metadata": {
        "dataframeName": "_sqldf",
        "executionCount": 6
       },
       "overflow": false,
       "plotOptions": {
        "customPlotOptions": {},
        "displayType": "table",
        "pivotAggregation": null,
        "pivotColumns": null,
        "xColumns": null,
        "yColumns": null
       },
       "removedWidgets": [],
       "schema": [
        {
         "metadata": "{\"comment\":\"name of the column\"}",
         "name": "col_name",
         "type": "\"string\""
        },
        {
         "metadata": "{\"comment\":\"data type of the column\"}",
         "name": "data_type",
         "type": "\"string\""
        },
        {
         "metadata": "{\"comment\":\"comment of the column\"}",
         "name": "comment",
         "type": "\"string\""
        }
       ],
       "type": "table"
      }
     },
     "output_type": "display_data"
    }
   ],
   "source": [
    "%sql\n",
    "DESCRIBE TABLE EXTENDED customers_silver"
   ]
  },
  {
   "cell_type": "markdown",
   "metadata": {
    "application/vnd.databricks.v1+cell": {
     "cellMetadata": {},
     "inputWidgets": {},
     "nuid": "c2cc86d2-ee6d-43e9-82d3-3781eaf3fcac",
     "showTitle": false,
     "tableResultSettingsMap": {},
     "title": ""
    }
   },
   "source": [
    "Check that a new version of the table is being used because we have enabled CDF"
   ]
  },
  {
   "cell_type": "code",
   "execution_count": 0,
   "metadata": {
    "application/vnd.databricks.v1+cell": {
     "cellMetadata": {
      "byteLimit": 2048000,
      "implicitDf": true,
      "rowLimit": 10000
     },
     "inputWidgets": {},
     "nuid": "b100462b-6e17-4fb4-9d04-c5c13be9fe67",
     "showTitle": false,
     "tableResultSettingsMap": {},
     "title": ""
    }
   },
   "outputs": [
    {
     "output_type": "display_data",
     "data": {
      "text/html": [
       "<style scoped>\n",
       "  .table-result-container {\n",
       "    max-height: 300px;\n",
       "    overflow: auto;\n",
       "  }\n",
       "  table, th, td {\n",
       "    border: 1px solid black;\n",
       "    border-collapse: collapse;\n",
       "  }\n",
       "  th, td {\n",
       "    padding: 5px;\n",
       "  }\n",
       "  th {\n",
       "    text-align: left;\n",
       "  }\n",
       "</style><div class='table-result-container'><table class='table-result'><thead style='background-color: white'><tr><th>version</th><th>timestamp</th><th>userId</th><th>userName</th><th>operation</th><th>operationParameters</th><th>job</th><th>notebook</th><th>clusterId</th><th>readVersion</th><th>isolationLevel</th><th>isBlindAppend</th><th>operationMetrics</th><th>userMetadata</th><th>engineInfo</th></tr></thead><tbody><tr><td>11</td><td>2025-03-09T04:58:09Z</td><td>883594648125359</td><td>cwong2@deloitte.com.au</td><td>SET TBLPROPERTIES</td><td>Map(properties -> {\"delta.enableChangeDataFeed\":\"true\"})</td><td>null</td><td>List(3348297645639392)</td><td>0122-053654-jmx9pij9</td><td>10</td><td>WriteSerializable</td><td>true</td><td>Map()</td><td>null</td><td>Databricks-Runtime/13.3.x-photon-scala2.12</td></tr><tr><td>10</td><td>2025-03-09T04:44:16Z</td><td>883594648125359</td><td>cwong2@deloitte.com.au</td><td>MERGE</td><td>Map(predicate -> [\"(customer_id#617 = customer_id#428)\"], matchedPredicates -> [{\"predicate\":\"(row_time#625 < row_time#437)\",\"actionType\":\"update\"}], statsOnLoad -> false, notMatchedBySourcePredicates -> [], notMatchedPredicates -> [{\"actionType\":\"insert\"}])</td><td>null</td><td>List(3348297645639381)</td><td>0122-053654-jmx9pij9</td><td>9</td><td>WriteSerializable</td><td>false</td><td>Map(numTargetRowsCopied -> 0, numTargetRowsDeleted -> 0, numTargetFilesAdded -> 0, numTargetBytesAdded -> 0, numTargetBytesRemoved -> 0, numTargetDeletionVectorsAdded -> 0, numTargetRowsMatchedUpdated -> 0, executionTimeMs -> 5453, materializeSourceTimeMs -> 1315, numTargetRowsInserted -> 0, numTargetRowsMatchedDeleted -> 0, scanTimeMs -> 2331, numTargetRowsUpdated -> 0, numOutputRows -> 0, numTargetDeletionVectorsRemoved -> 0, numTargetRowsNotMatchedBySourceUpdated -> 0, numTargetChangeFilesAdded -> 0, numSourceRows -> 0, numTargetFilesRemoved -> 0, numTargetRowsNotMatchedBySourceDeleted -> 0, rewriteTimeMs -> 1651)</td><td>null</td><td>Databricks-Runtime/13.3.x-photon-scala2.12</td></tr><tr><td>9</td><td>2024-11-25T11:58:26Z</td><td>1984848388221464</td><td>rvemulapally@deloitte.com.au</td><td>DELETE</td><td>Map(predicate -> [\"customer_id#974 IN (list#932 [])\"])</td><td>null</td><td>List(1183771821565958)</td><td>0930-040814-iga72s2f</td><td>8</td><td>WriteSerializable</td><td>true</td><td>Map(numRemovedFiles -> 0, numRemovedBytes -> 0, numCopiedRows -> 0, numDeletionVectorsAdded -> 0, numDeletionVectorsRemoved -> 0, numAddedChangeFiles -> 0, executionTimeMs -> 2883, numDeletedRows -> 0, scanTimeMs -> 2844, numAddedFiles -> 0, numAddedBytes -> 0, rewriteTimeMs -> 0)</td><td>null</td><td>Databricks-Runtime/13.3.x-scala2.12</td></tr><tr><td>8</td><td>2024-11-25T11:33:51Z</td><td>1984848388221464</td><td>rvemulapally@deloitte.com.au</td><td>SET TBLPROPERTIES</td><td>Map(properties -> {\"delta.enableChangeDataFeed\":\"true\"})</td><td>List(798721213230020, Bookstore Pro, 1019356936713466, 1024912282823039, 1984848388221464, manual)</td><td>List(1183771821565965)</td><td>1125-112921-vpmovtv</td><td>7</td><td>WriteSerializable</td><td>true</td><td>Map()</td><td>null</td><td>Databricks-Runtime/15.4.x-photon-scala2.12</td></tr><tr><td>7</td><td>2024-11-21T04:02:21Z</td><td>8165668582725249</td><td>franyang@deloitte.com.au</td><td>MERGE</td><td>Map(predicate -> [\"(customer_id#5581 = customer_id#5366)\"], matchedPredicates -> [{\"predicate\":\"(row_time#5589 < row_time#5375)\",\"actionType\":\"update\"}], statsOnLoad -> false, notMatchedBySourcePredicates -> [], notMatchedPredicates -> [{\"actionType\":\"insert\"}])</td><td>null</td><td>List(2162048479376590)</td><td>0930-040814-iga72s2f</td><td>6</td><td>WriteSerializable</td><td>false</td><td>Map(numTargetRowsCopied -> 192, numTargetRowsDeleted -> 0, numTargetFilesAdded -> 2, numTargetBytesAdded -> 46769, numTargetBytesRemoved -> 18030, numTargetDeletionVectorsAdded -> 0, numTargetRowsMatchedUpdated -> 11, executionTimeMs -> 7085, materializeSourceTimeMs -> 1338, numTargetRowsInserted -> 365, numTargetRowsMatchedDeleted -> 0, scanTimeMs -> 2627, numTargetRowsUpdated -> 11, numOutputRows -> 568, numTargetDeletionVectorsRemoved -> 0, numTargetRowsNotMatchedBySourceUpdated -> 0, numTargetChangeFilesAdded -> 1, numSourceRows -> 376, numTargetFilesRemoved -> 1, numTargetRowsNotMatchedBySourceDeleted -> 0, rewriteTimeMs -> 2764)</td><td>null</td><td>Databricks-Runtime/13.3.x-scala2.12</td></tr><tr><td>6</td><td>2024-11-21T03:57:27Z</td><td>8165668582725249</td><td>franyang@deloitte.com.au</td><td>SET TBLPROPERTIES</td><td>Map(properties -> {\"delta.enableChangeDataFeed\":\"true\"})</td><td>null</td><td>List(2162048479376590)</td><td>0930-040814-iga72s2f</td><td>5</td><td>WriteSerializable</td><td>true</td><td>Map()</td><td>null</td><td>Databricks-Runtime/13.3.x-scala2.12</td></tr><tr><td>5</td><td>2024-11-10T11:43:02Z</td><td>1984848388221464</td><td>rvemulapally@deloitte.com.au</td><td>MERGE</td><td>Map(predicate -> [\"(customer_id#16724 = customer_id#16509)\"], matchedPredicates -> [{\"predicate\":\"(row_time#16732 < row_time#16518)\",\"actionType\":\"update\"}], statsOnLoad -> false, notMatchedBySourcePredicates -> [], notMatchedPredicates -> [{\"actionType\":\"insert\"}])</td><td>null</td><td>List(1183771821565987)</td><td>0930-040814-iga72s2f</td><td>4</td><td>WriteSerializable</td><td>false</td><td>Map(numTargetRowsCopied -> 187, numTargetRowsDeleted -> 0, numTargetFilesAdded -> 2, numTargetBytesAdded -> 34535, numTargetBytesRemoved -> 17314, numTargetDeletionVectorsAdded -> 0, numTargetRowsMatchedUpdated -> 12, executionTimeMs -> 3350, materializeSourceTimeMs -> 601, numTargetRowsInserted -> 191, numTargetRowsMatchedDeleted -> 0, scanTimeMs -> 1004, numTargetRowsUpdated -> 12, numOutputRows -> 390, numTargetDeletionVectorsRemoved -> 0, numTargetRowsNotMatchedBySourceUpdated -> 0, numTargetChangeFilesAdded -> 1, numSourceRows -> 203, numTargetFilesRemoved -> 1, numTargetRowsNotMatchedBySourceDeleted -> 0, rewriteTimeMs -> 1693)</td><td>null</td><td>Databricks-Runtime/13.3.x-scala2.12</td></tr><tr><td>4</td><td>2024-11-10T10:56:42Z</td><td>1984848388221464</td><td>rvemulapally@deloitte.com.au</td><td>MERGE</td><td>Map(predicate -> [\"(customer_id#10223 = customer_id#9744)\"], matchedPredicates -> [{\"predicate\":\"(row_time#10231 < row_time#9753)\",\"actionType\":\"update\"}], statsOnLoad -> false, notMatchedBySourcePredicates -> [], notMatchedPredicates -> [{\"actionType\":\"insert\"}])</td><td>null</td><td>List(1183771821565968)</td><td>0930-040814-iga72s2f</td><td>3</td><td>WriteSerializable</td><td>false</td><td>Map(numTargetRowsCopied -> 192, numTargetRowsDeleted -> 0, numTargetFilesAdded -> 2, numTargetBytesAdded -> 34281, numTargetBytesRemoved -> 17585, numTargetDeletionVectorsAdded -> 0, numTargetRowsMatchedUpdated -> 8, executionTimeMs -> 3169, materializeSourceTimeMs -> 546, numTargetRowsInserted -> 191, numTargetRowsMatchedDeleted -> 0, scanTimeMs -> 1099, numTargetRowsUpdated -> 8, numOutputRows -> 391, numTargetDeletionVectorsRemoved -> 0, numTargetRowsNotMatchedBySourceUpdated -> 0, numTargetChangeFilesAdded -> 1, numSourceRows -> 199, numTargetFilesRemoved -> 1, numTargetRowsNotMatchedBySourceDeleted -> 0, rewriteTimeMs -> 1415)</td><td>null</td><td>Databricks-Runtime/13.3.x-scala2.12</td></tr><tr><td>3</td><td>2024-11-10T10:55:18Z</td><td>1984848388221464</td><td>rvemulapally@deloitte.com.au</td><td>MERGE</td><td>Map(predicate -> [\"(customer_id#6388 = customer_id#5909)\"], matchedPredicates -> [{\"predicate\":\"(row_time#6396 < row_time#5918)\",\"actionType\":\"update\"}], statsOnLoad -> false, notMatchedBySourcePredicates -> [], notMatchedPredicates -> [{\"actionType\":\"insert\"}])</td><td>null</td><td>List(1183771821565968)</td><td>0930-040814-iga72s2f</td><td>2</td><td>WriteSerializable</td><td>false</td><td>Map(numTargetRowsCopied -> 954, numTargetRowsDeleted -> 0, numTargetFilesAdded -> 2, numTargetBytesAdded -> 84319, numTargetBytesRemoved -> 67371, numTargetDeletionVectorsAdded -> 0, numTargetRowsMatchedUpdated -> 10, executionTimeMs -> 5318, materializeSourceTimeMs -> 556, numTargetRowsInserted -> 190, numTargetRowsMatchedDeleted -> 0, scanTimeMs -> 1997, numTargetRowsUpdated -> 10, numOutputRows -> 1154, numTargetDeletionVectorsRemoved -> 0, numTargetRowsNotMatchedBySourceUpdated -> 0, numTargetChangeFilesAdded -> 1, numSourceRows -> 200, numTargetFilesRemoved -> 1, numTargetRowsNotMatchedBySourceDeleted -> 0, rewriteTimeMs -> 2477)</td><td>null</td><td>Databricks-Runtime/13.3.x-scala2.12</td></tr><tr><td>2</td><td>2024-11-10T10:53:33Z</td><td>1984848388221464</td><td>rvemulapally@deloitte.com.au</td><td>SET TBLPROPERTIES</td><td>Map(properties -> {\"delta.enableChangeDataFeed\":\"true\"})</td><td>null</td><td>List(1183771821565968)</td><td>0930-040814-iga72s2f</td><td>1</td><td>WriteSerializable</td><td>true</td><td>Map()</td><td>null</td><td>Databricks-Runtime/13.3.x-scala2.12</td></tr><tr><td>1</td><td>2024-11-10T10:41:12Z</td><td>1984848388221464</td><td>rvemulapally@deloitte.com.au</td><td>MERGE</td><td>Map(predicate -> [\"(customer_id#1451 = customer_id#986)\"], matchedPredicates -> [{\"predicate\":\"(row_time#1459 < row_time#995)\",\"actionType\":\"update\"}], statsOnLoad -> false, notMatchedBySourcePredicates -> [], notMatchedPredicates -> [{\"actionType\":\"insert\"}])</td><td>null</td><td>List(1183771821565966)</td><td>0930-040814-iga72s2f</td><td>0</td><td>WriteSerializable</td><td>false</td><td>Map(numTargetRowsCopied -> 0, numTargetRowsDeleted -> 0, numTargetFilesAdded -> 1, numTargetBytesAdded -> 67371, numTargetBytesRemoved -> 0, numTargetDeletionVectorsAdded -> 0, numTargetRowsMatchedUpdated -> 0, executionTimeMs -> 7447, materializeSourceTimeMs -> 1284, numTargetRowsInserted -> 964, numTargetRowsMatchedDeleted -> 0, scanTimeMs -> 2544, numTargetRowsUpdated -> 0, numOutputRows -> 964, numTargetDeletionVectorsRemoved -> 0, numTargetRowsNotMatchedBySourceUpdated -> 0, numTargetChangeFilesAdded -> 0, numSourceRows -> 964, numTargetFilesRemoved -> 0, numTargetRowsNotMatchedBySourceDeleted -> 0, rewriteTimeMs -> 3479)</td><td>null</td><td>Databricks-Runtime/13.3.x-scala2.12</td></tr><tr><td>0</td><td>2024-11-10T10:40:10Z</td><td>1984848388221464</td><td>rvemulapally@deloitte.com.au</td><td>CREATE TABLE</td><td>Map(partitionBy -> [], description -> null, isManaged -> true, properties -> {}, statsOnLoad -> false)</td><td>null</td><td>List(1183771821565966)</td><td>0930-040814-iga72s2f</td><td>null</td><td>WriteSerializable</td><td>true</td><td>Map()</td><td>null</td><td>Databricks-Runtime/13.3.x-scala2.12</td></tr></tbody></table></div>"
      ]
     },
     "metadata": {
      "application/vnd.databricks.v1+output": {
       "addedWidgets": {},
       "aggData": [],
       "aggError": "",
       "aggOverflow": false,
       "aggSchema": [],
       "aggSeriesLimitReached": false,
       "aggType": "",
       "arguments": {},
       "columnCustomDisplayInfos": {},
       "data": [
        [
         11,
         "2025-03-09T04:58:09Z",
         "883594648125359",
         "cwong2@deloitte.com.au",
         "SET TBLPROPERTIES",
         {
          "properties": "{\"delta.enableChangeDataFeed\":\"true\"}"
         },
         null,
         [
          "3348297645639392"
         ],
         "0122-053654-jmx9pij9",
         10,
         "WriteSerializable",
         true,
         {},
         null,
         "Databricks-Runtime/13.3.x-photon-scala2.12"
        ],
        [
         10,
         "2025-03-09T04:44:16Z",
         "883594648125359",
         "cwong2@deloitte.com.au",
         "MERGE",
         {
          "matchedPredicates": "[{\"predicate\":\"(row_time#625 < row_time#437)\",\"actionType\":\"update\"}]",
          "notMatchedBySourcePredicates": "[]",
          "notMatchedPredicates": "[{\"actionType\":\"insert\"}]",
          "predicate": "[\"(customer_id#617 = customer_id#428)\"]",
          "statsOnLoad": "false"
         },
         null,
         [
          "3348297645639381"
         ],
         "0122-053654-jmx9pij9",
         9,
         "WriteSerializable",
         false,
         {
          "executionTimeMs": "5453",
          "materializeSourceTimeMs": "1315",
          "numOutputRows": "0",
          "numSourceRows": "0",
          "numTargetBytesAdded": "0",
          "numTargetBytesRemoved": "0",
          "numTargetChangeFilesAdded": "0",
          "numTargetDeletionVectorsAdded": "0",
          "numTargetDeletionVectorsRemoved": "0",
          "numTargetFilesAdded": "0",
          "numTargetFilesRemoved": "0",
          "numTargetRowsCopied": "0",
          "numTargetRowsDeleted": "0",
          "numTargetRowsInserted": "0",
          "numTargetRowsMatchedDeleted": "0",
          "numTargetRowsMatchedUpdated": "0",
          "numTargetRowsNotMatchedBySourceDeleted": "0",
          "numTargetRowsNotMatchedBySourceUpdated": "0",
          "numTargetRowsUpdated": "0",
          "rewriteTimeMs": "1651",
          "scanTimeMs": "2331"
         },
         null,
         "Databricks-Runtime/13.3.x-photon-scala2.12"
        ],
        [
         9,
         "2024-11-25T11:58:26Z",
         "1984848388221464",
         "rvemulapally@deloitte.com.au",
         "DELETE",
         {
          "predicate": "[\"customer_id#974 IN (list#932 [])\"]"
         },
         null,
         [
          "1183771821565958"
         ],
         "0930-040814-iga72s2f",
         8,
         "WriteSerializable",
         true,
         {
          "executionTimeMs": "2883",
          "numAddedBytes": "0",
          "numAddedChangeFiles": "0",
          "numAddedFiles": "0",
          "numCopiedRows": "0",
          "numDeletedRows": "0",
          "numDeletionVectorsAdded": "0",
          "numDeletionVectorsRemoved": "0",
          "numRemovedBytes": "0",
          "numRemovedFiles": "0",
          "rewriteTimeMs": "0",
          "scanTimeMs": "2844"
         },
         null,
         "Databricks-Runtime/13.3.x-scala2.12"
        ],
        [
         8,
         "2024-11-25T11:33:51Z",
         "1984848388221464",
         "rvemulapally@deloitte.com.au",
         "SET TBLPROPERTIES",
         {
          "properties": "{\"delta.enableChangeDataFeed\":\"true\"}"
         },
         [
          "798721213230020",
          "Bookstore Pro",
          "1019356936713466",
          "1024912282823039",
          "1984848388221464",
          "manual"
         ],
         [
          "1183771821565965"
         ],
         "1125-112921-vpmovtv",
         7,
         "WriteSerializable",
         true,
         {},
         null,
         "Databricks-Runtime/15.4.x-photon-scala2.12"
        ],
        [
         7,
         "2024-11-21T04:02:21Z",
         "8165668582725249",
         "franyang@deloitte.com.au",
         "MERGE",
         {
          "matchedPredicates": "[{\"predicate\":\"(row_time#5589 < row_time#5375)\",\"actionType\":\"update\"}]",
          "notMatchedBySourcePredicates": "[]",
          "notMatchedPredicates": "[{\"actionType\":\"insert\"}]",
          "predicate": "[\"(customer_id#5581 = customer_id#5366)\"]",
          "statsOnLoad": "false"
         },
         null,
         [
          "2162048479376590"
         ],
         "0930-040814-iga72s2f",
         6,
         "WriteSerializable",
         false,
         {
          "executionTimeMs": "7085",
          "materializeSourceTimeMs": "1338",
          "numOutputRows": "568",
          "numSourceRows": "376",
          "numTargetBytesAdded": "46769",
          "numTargetBytesRemoved": "18030",
          "numTargetChangeFilesAdded": "1",
          "numTargetDeletionVectorsAdded": "0",
          "numTargetDeletionVectorsRemoved": "0",
          "numTargetFilesAdded": "2",
          "numTargetFilesRemoved": "1",
          "numTargetRowsCopied": "192",
          "numTargetRowsDeleted": "0",
          "numTargetRowsInserted": "365",
          "numTargetRowsMatchedDeleted": "0",
          "numTargetRowsMatchedUpdated": "11",
          "numTargetRowsNotMatchedBySourceDeleted": "0",
          "numTargetRowsNotMatchedBySourceUpdated": "0",
          "numTargetRowsUpdated": "11",
          "rewriteTimeMs": "2764",
          "scanTimeMs": "2627"
         },
         null,
         "Databricks-Runtime/13.3.x-scala2.12"
        ],
        [
         6,
         "2024-11-21T03:57:27Z",
         "8165668582725249",
         "franyang@deloitte.com.au",
         "SET TBLPROPERTIES",
         {
          "properties": "{\"delta.enableChangeDataFeed\":\"true\"}"
         },
         null,
         [
          "2162048479376590"
         ],
         "0930-040814-iga72s2f",
         5,
         "WriteSerializable",
         true,
         {},
         null,
         "Databricks-Runtime/13.3.x-scala2.12"
        ],
        [
         5,
         "2024-11-10T11:43:02Z",
         "1984848388221464",
         "rvemulapally@deloitte.com.au",
         "MERGE",
         {
          "matchedPredicates": "[{\"predicate\":\"(row_time#16732 < row_time#16518)\",\"actionType\":\"update\"}]",
          "notMatchedBySourcePredicates": "[]",
          "notMatchedPredicates": "[{\"actionType\":\"insert\"}]",
          "predicate": "[\"(customer_id#16724 = customer_id#16509)\"]",
          "statsOnLoad": "false"
         },
         null,
         [
          "1183771821565987"
         ],
         "0930-040814-iga72s2f",
         4,
         "WriteSerializable",
         false,
         {
          "executionTimeMs": "3350",
          "materializeSourceTimeMs": "601",
          "numOutputRows": "390",
          "numSourceRows": "203",
          "numTargetBytesAdded": "34535",
          "numTargetBytesRemoved": "17314",
          "numTargetChangeFilesAdded": "1",
          "numTargetDeletionVectorsAdded": "0",
          "numTargetDeletionVectorsRemoved": "0",
          "numTargetFilesAdded": "2",
          "numTargetFilesRemoved": "1",
          "numTargetRowsCopied": "187",
          "numTargetRowsDeleted": "0",
          "numTargetRowsInserted": "191",
          "numTargetRowsMatchedDeleted": "0",
          "numTargetRowsMatchedUpdated": "12",
          "numTargetRowsNotMatchedBySourceDeleted": "0",
          "numTargetRowsNotMatchedBySourceUpdated": "0",
          "numTargetRowsUpdated": "12",
          "rewriteTimeMs": "1693",
          "scanTimeMs": "1004"
         },
         null,
         "Databricks-Runtime/13.3.x-scala2.12"
        ],
        [
         4,
         "2024-11-10T10:56:42Z",
         "1984848388221464",
         "rvemulapally@deloitte.com.au",
         "MERGE",
         {
          "matchedPredicates": "[{\"predicate\":\"(row_time#10231 < row_time#9753)\",\"actionType\":\"update\"}]",
          "notMatchedBySourcePredicates": "[]",
          "notMatchedPredicates": "[{\"actionType\":\"insert\"}]",
          "predicate": "[\"(customer_id#10223 = customer_id#9744)\"]",
          "statsOnLoad": "false"
         },
         null,
         [
          "1183771821565968"
         ],
         "0930-040814-iga72s2f",
         3,
         "WriteSerializable",
         false,
         {
          "executionTimeMs": "3169",
          "materializeSourceTimeMs": "546",
          "numOutputRows": "391",
          "numSourceRows": "199",
          "numTargetBytesAdded": "34281",
          "numTargetBytesRemoved": "17585",
          "numTargetChangeFilesAdded": "1",
          "numTargetDeletionVectorsAdded": "0",
          "numTargetDeletionVectorsRemoved": "0",
          "numTargetFilesAdded": "2",
          "numTargetFilesRemoved": "1",
          "numTargetRowsCopied": "192",
          "numTargetRowsDeleted": "0",
          "numTargetRowsInserted": "191",
          "numTargetRowsMatchedDeleted": "0",
          "numTargetRowsMatchedUpdated": "8",
          "numTargetRowsNotMatchedBySourceDeleted": "0",
          "numTargetRowsNotMatchedBySourceUpdated": "0",
          "numTargetRowsUpdated": "8",
          "rewriteTimeMs": "1415",
          "scanTimeMs": "1099"
         },
         null,
         "Databricks-Runtime/13.3.x-scala2.12"
        ],
        [
         3,
         "2024-11-10T10:55:18Z",
         "1984848388221464",
         "rvemulapally@deloitte.com.au",
         "MERGE",
         {
          "matchedPredicates": "[{\"predicate\":\"(row_time#6396 < row_time#5918)\",\"actionType\":\"update\"}]",
          "notMatchedBySourcePredicates": "[]",
          "notMatchedPredicates": "[{\"actionType\":\"insert\"}]",
          "predicate": "[\"(customer_id#6388 = customer_id#5909)\"]",
          "statsOnLoad": "false"
         },
         null,
         [
          "1183771821565968"
         ],
         "0930-040814-iga72s2f",
         2,
         "WriteSerializable",
         false,
         {
          "executionTimeMs": "5318",
          "materializeSourceTimeMs": "556",
          "numOutputRows": "1154",
          "numSourceRows": "200",
          "numTargetBytesAdded": "84319",
          "numTargetBytesRemoved": "67371",
          "numTargetChangeFilesAdded": "1",
          "numTargetDeletionVectorsAdded": "0",
          "numTargetDeletionVectorsRemoved": "0",
          "numTargetFilesAdded": "2",
          "numTargetFilesRemoved": "1",
          "numTargetRowsCopied": "954",
          "numTargetRowsDeleted": "0",
          "numTargetRowsInserted": "190",
          "numTargetRowsMatchedDeleted": "0",
          "numTargetRowsMatchedUpdated": "10",
          "numTargetRowsNotMatchedBySourceDeleted": "0",
          "numTargetRowsNotMatchedBySourceUpdated": "0",
          "numTargetRowsUpdated": "10",
          "rewriteTimeMs": "2477",
          "scanTimeMs": "1997"
         },
         null,
         "Databricks-Runtime/13.3.x-scala2.12"
        ],
        [
         2,
         "2024-11-10T10:53:33Z",
         "1984848388221464",
         "rvemulapally@deloitte.com.au",
         "SET TBLPROPERTIES",
         {
          "properties": "{\"delta.enableChangeDataFeed\":\"true\"}"
         },
         null,
         [
          "1183771821565968"
         ],
         "0930-040814-iga72s2f",
         1,
         "WriteSerializable",
         true,
         {},
         null,
         "Databricks-Runtime/13.3.x-scala2.12"
        ],
        [
         1,
         "2024-11-10T10:41:12Z",
         "1984848388221464",
         "rvemulapally@deloitte.com.au",
         "MERGE",
         {
          "matchedPredicates": "[{\"predicate\":\"(row_time#1459 < row_time#995)\",\"actionType\":\"update\"}]",
          "notMatchedBySourcePredicates": "[]",
          "notMatchedPredicates": "[{\"actionType\":\"insert\"}]",
          "predicate": "[\"(customer_id#1451 = customer_id#986)\"]",
          "statsOnLoad": "false"
         },
         null,
         [
          "1183771821565966"
         ],
         "0930-040814-iga72s2f",
         0,
         "WriteSerializable",
         false,
         {
          "executionTimeMs": "7447",
          "materializeSourceTimeMs": "1284",
          "numOutputRows": "964",
          "numSourceRows": "964",
          "numTargetBytesAdded": "67371",
          "numTargetBytesRemoved": "0",
          "numTargetChangeFilesAdded": "0",
          "numTargetDeletionVectorsAdded": "0",
          "numTargetDeletionVectorsRemoved": "0",
          "numTargetFilesAdded": "1",
          "numTargetFilesRemoved": "0",
          "numTargetRowsCopied": "0",
          "numTargetRowsDeleted": "0",
          "numTargetRowsInserted": "964",
          "numTargetRowsMatchedDeleted": "0",
          "numTargetRowsMatchedUpdated": "0",
          "numTargetRowsNotMatchedBySourceDeleted": "0",
          "numTargetRowsNotMatchedBySourceUpdated": "0",
          "numTargetRowsUpdated": "0",
          "rewriteTimeMs": "3479",
          "scanTimeMs": "2544"
         },
         null,
         "Databricks-Runtime/13.3.x-scala2.12"
        ],
        [
         0,
         "2024-11-10T10:40:10Z",
         "1984848388221464",
         "rvemulapally@deloitte.com.au",
         "CREATE TABLE",
         {
          "description": null,
          "isManaged": "true",
          "partitionBy": "[]",
          "properties": "{}",
          "statsOnLoad": "false"
         },
         null,
         [
          "1183771821565966"
         ],
         "0930-040814-iga72s2f",
         null,
         "WriteSerializable",
         true,
         {},
         null,
         "Databricks-Runtime/13.3.x-scala2.12"
        ]
       ],
       "datasetInfos": [],
       "dbfsResultPath": null,
       "isJsonSchema": true,
       "metadata": {
        "dataframeName": "_sqldf",
        "executionCount": 7
       },
       "overflow": false,
       "plotOptions": {
        "customPlotOptions": {},
        "displayType": "table",
        "pivotAggregation": null,
        "pivotColumns": null,
        "xColumns": null,
        "yColumns": null
       },
       "removedWidgets": [],
       "schema": [
        {
         "metadata": "{}",
         "name": "version",
         "type": "\"long\""
        },
        {
         "metadata": "{}",
         "name": "timestamp",
         "type": "\"timestamp\""
        },
        {
         "metadata": "{}",
         "name": "userId",
         "type": "\"string\""
        },
        {
         "metadata": "{}",
         "name": "userName",
         "type": "\"string\""
        },
        {
         "metadata": "{}",
         "name": "operation",
         "type": "\"string\""
        },
        {
         "metadata": "{}",
         "name": "operationParameters",
         "type": "{\"type\":\"map\",\"keyType\":\"string\",\"valueType\":\"string\",\"valueContainsNull\":true}"
        },
        {
         "metadata": "{}",
         "name": "job",
         "type": "{\"type\":\"struct\",\"fields\":[{\"name\":\"jobId\",\"type\":\"string\",\"nullable\":true,\"metadata\":{}},{\"name\":\"jobName\",\"type\":\"string\",\"nullable\":true,\"metadata\":{}},{\"name\":\"jobRunId\",\"type\":\"string\",\"nullable\":true,\"metadata\":{}},{\"name\":\"runId\",\"type\":\"string\",\"nullable\":true,\"metadata\":{}},{\"name\":\"jobOwnerId\",\"type\":\"string\",\"nullable\":true,\"metadata\":{}},{\"name\":\"triggerType\",\"type\":\"string\",\"nullable\":true,\"metadata\":{}}]}"
        },
        {
         "metadata": "{}",
         "name": "notebook",
         "type": "{\"type\":\"struct\",\"fields\":[{\"name\":\"notebookId\",\"type\":\"string\",\"nullable\":true,\"metadata\":{}}]}"
        },
        {
         "metadata": "{}",
         "name": "clusterId",
         "type": "\"string\""
        },
        {
         "metadata": "{}",
         "name": "readVersion",
         "type": "\"long\""
        },
        {
         "metadata": "{}",
         "name": "isolationLevel",
         "type": "\"string\""
        },
        {
         "metadata": "{}",
         "name": "isBlindAppend",
         "type": "\"boolean\""
        },
        {
         "metadata": "{}",
         "name": "operationMetrics",
         "type": "{\"type\":\"map\",\"keyType\":\"string\",\"valueType\":\"string\",\"valueContainsNull\":true}"
        },
        {
         "metadata": "{}",
         "name": "userMetadata",
         "type": "\"string\""
        },
        {
         "metadata": "{}",
         "name": "engineInfo",
         "type": "\"string\""
        }
       ],
       "type": "table"
      }
     },
     "output_type": "display_data"
    }
   ],
   "source": [
    "%sql\n",
    "DESCRIBE HISTORY customers_silver"
   ]
  },
  {
   "cell_type": "markdown",
   "metadata": {
    "application/vnd.databricks.v1+cell": {
     "cellMetadata": {},
     "inputWidgets": {},
     "nuid": "eaa0befb-066f-4a9c-b950-2ad43f13191f",
     "showTitle": false,
     "tableResultSettingsMap": {},
     "title": ""
    }
   },
   "source": [
    "We will take more customer files and process them to our customers_silver() table"
   ]
  },
  {
   "cell_type": "code",
   "execution_count": 0,
   "metadata": {
    "application/vnd.databricks.v1+cell": {
     "cellMetadata": {
      "byteLimit": 2048000,
      "rowLimit": 10000
     },
     "inputWidgets": {},
     "nuid": "a405b9f0-f92a-4ac5-a728-b9aa9614c595",
     "showTitle": false,
     "tableResultSettingsMap": {},
     "title": ""
    }
   },
   "outputs": [
    {
     "output_type": "stream",
     "name": "stdout",
     "output_type": "stream",
     "text": [
      "No more data to load\n\n"
     ]
    }
   ],
   "source": [
    "bookstore.load_new_data()\n",
    "bookstore.process_bronze()\n",
    "bookstore.process_orders_silver()\n",
    "bookstore.process_customers_silver()"
   ]
  },
  {
   "cell_type": "markdown",
   "metadata": {
    "application/vnd.databricks.v1+cell": {
     "cellMetadata": {},
     "inputWidgets": {},
     "nuid": "f6b3cda8-fa17-4f04-aa5b-9504391d6853",
     "showTitle": false,
     "tableResultSettingsMap": {},
     "title": ""
    }
   },
   "source": [
    "We use the table_changes() function in SQL, passing it the table name, and the starting version of the table - here our starting version is 11 - i.e. whenever CDF was enabled"
   ]
  },
  {
   "cell_type": "code",
   "execution_count": 0,
   "metadata": {
    "application/vnd.databricks.v1+cell": {
     "cellMetadata": {
      "byteLimit": 2048000,
      "implicitDf": true,
      "rowLimit": 10000
     },
     "inputWidgets": {},
     "nuid": "de9db764-f5b4-4128-821f-43138324d09a",
     "showTitle": false,
     "tableResultSettingsMap": {},
     "title": ""
    }
   },
   "outputs": [
    {
     "output_type": "display_data",
     "data": {
      "text/html": [
       "<style scoped>\n",
       "  .table-result-container {\n",
       "    max-height: 300px;\n",
       "    overflow: auto;\n",
       "  }\n",
       "  table, th, td {\n",
       "    border: 1px solid black;\n",
       "    border-collapse: collapse;\n",
       "  }\n",
       "  th, td {\n",
       "    padding: 5px;\n",
       "  }\n",
       "  th {\n",
       "    text-align: left;\n",
       "  }\n",
       "</style><div class='table-result-container'><table class='table-result'><thead style='background-color: white'><tr><th>customer_id</th><th>email</th><th>first_name</th><th>last_name</th><th>gender</th><th>street</th><th>city</th><th>country</th><th>row_time</th><th>_change_type</th><th>_commit_version</th><th>_commit_timestamp</th></tr></thead><tbody></tbody></table></div>"
      ]
     },
     "metadata": {
      "application/vnd.databricks.v1+output": {
       "addedWidgets": {},
       "aggData": [],
       "aggError": "",
       "aggOverflow": false,
       "aggSchema": [],
       "aggSeriesLimitReached": false,
       "aggType": "",
       "arguments": {},
       "columnCustomDisplayInfos": {},
       "data": [],
       "datasetInfos": [],
       "dbfsResultPath": null,
       "isJsonSchema": true,
       "metadata": {
        "dataframeName": "_sqldf",
        "executionCount": 12
       },
       "overflow": false,
       "plotOptions": {
        "customPlotOptions": {},
        "displayType": "table",
        "pivotAggregation": null,
        "pivotColumns": null,
        "xColumns": null,
        "yColumns": null
       },
       "removedWidgets": [],
       "schema": [
        {
         "metadata": "{}",
         "name": "customer_id",
         "type": "\"string\""
        },
        {
         "metadata": "{}",
         "name": "email",
         "type": "\"string\""
        },
        {
         "metadata": "{}",
         "name": "first_name",
         "type": "\"string\""
        },
        {
         "metadata": "{}",
         "name": "last_name",
         "type": "\"string\""
        },
        {
         "metadata": "{}",
         "name": "gender",
         "type": "\"string\""
        },
        {
         "metadata": "{}",
         "name": "street",
         "type": "\"string\""
        },
        {
         "metadata": "{}",
         "name": "city",
         "type": "\"string\""
        },
        {
         "metadata": "{}",
         "name": "country",
         "type": "\"string\""
        },
        {
         "metadata": "{}",
         "name": "row_time",
         "type": "\"timestamp\""
        },
        {
         "metadata": "{}",
         "name": "_change_type",
         "type": "\"string\""
        },
        {
         "metadata": "{}",
         "name": "_commit_version",
         "type": "\"long\""
        },
        {
         "metadata": "{}",
         "name": "_commit_timestamp",
         "type": "\"timestamp\""
        }
       ],
       "type": "table"
      }
     },
     "output_type": "display_data"
    }
   ],
   "source": [
    "%sql\n",
    "SELECT * \n",
    "FROM table_changes(\"customers_silver\", 11)"
   ]
  },
  {
   "cell_type": "markdown",
   "metadata": {
    "application/vnd.databricks.v1+cell": {
     "cellMetadata": {},
     "inputWidgets": {},
     "nuid": "d6f209db-3a5b-4ca0-afac-0a92b8d7a851",
     "showTitle": false,
     "tableResultSettingsMap": {},
     "title": ""
    }
   },
   "source": [
    "Notice that any new changes will also have an associated column called _change_type (update, insert, delete), _commit_version (version of the table, will be version 12 in our case, the version after the commit was done), and the _commit_timestamp (when the commit was made.)\n",
    "\n",
    "\n",
    "Next, we will land more files from our source directory:"
   ]
  },
  {
   "cell_type": "code",
   "execution_count": 0,
   "metadata": {
    "application/vnd.databricks.v1+cell": {
     "cellMetadata": {
      "byteLimit": 2048000,
      "rowLimit": 10000
     },
     "inputWidgets": {},
     "nuid": "4658aa41-0b63-49b1-a1da-b0652ce9592e",
     "showTitle": false,
     "tableResultSettingsMap": {},
     "title": ""
    }
   },
   "outputs": [
    {
     "output_type": "stream",
     "name": "stdout",
     "output_type": "stream",
     "text": [
      "No more data to load\n\n"
     ]
    }
   ],
   "source": [
    "bookstore.load_new_data()\n",
    "bookstore.process_bronze()\n",
    "bookstore.process_orders_silver()\n",
    "bookstore.process_customers_silver()"
   ]
  },
  {
   "cell_type": "code",
   "execution_count": 0,
   "metadata": {
    "application/vnd.databricks.v1+cell": {
     "cellMetadata": {
      "byteLimit": 2048000,
      "rowLimit": 10000
     },
     "inputWidgets": {},
     "nuid": "70e18f46-7dc9-4ddb-8445-a3d4e596d14d",
     "showTitle": false,
     "tableResultSettingsMap": {},
     "title": ""
    }
   },
   "outputs": [
    {
     "output_type": "display_data",
     "data": {
      "text/html": [
       "<style scoped>\n",
       "  .table-result-container {\n",
       "    max-height: 300px;\n",
       "    overflow: auto;\n",
       "  }\n",
       "  table, th, td {\n",
       "    border: 1px solid black;\n",
       "    border-collapse: collapse;\n",
       "  }\n",
       "  th, td {\n",
       "    padding: 5px;\n",
       "  }\n",
       "  th {\n",
       "    text-align: left;\n",
       "  }\n",
       "</style><div class='table-result-container'><table class='table-result'><thead style='background-color: white'><tr><th>customer_id</th><th>email</th><th>first_name</th><th>last_name</th><th>gender</th><th>street</th><th>city</th><th>country</th><th>row_time</th><th>_change_type</th><th>_commit_version</th><th>_commit_timestamp</th></tr></thead><tbody></tbody></table></div>"
      ]
     },
     "metadata": {
      "application/vnd.databricks.v1+output": {
       "addedWidgets": {},
       "aggData": [],
       "aggError": "",
       "aggOverflow": false,
       "aggSchema": [],
       "aggSeriesLimitReached": false,
       "aggType": "",
       "arguments": {},
       "columnCustomDisplayInfos": {},
       "data": [],
       "datasetInfos": [],
       "dbfsResultPath": null,
       "isJsonSchema": true,
       "metadata": {
        "isDbfsCommandResult": false
       },
       "overflow": false,
       "plotOptions": {
        "customPlotOptions": {},
        "displayType": "table",
        "pivotAggregation": null,
        "pivotColumns": null,
        "xColumns": null,
        "yColumns": null
       },
       "removedWidgets": [],
       "schema": [
        {
         "metadata": "{}",
         "name": "customer_id",
         "type": "\"string\""
        },
        {
         "metadata": "{}",
         "name": "email",
         "type": "\"string\""
        },
        {
         "metadata": "{}",
         "name": "first_name",
         "type": "\"string\""
        },
        {
         "metadata": "{}",
         "name": "last_name",
         "type": "\"string\""
        },
        {
         "metadata": "{}",
         "name": "gender",
         "type": "\"string\""
        },
        {
         "metadata": "{}",
         "name": "street",
         "type": "\"string\""
        },
        {
         "metadata": "{}",
         "name": "city",
         "type": "\"string\""
        },
        {
         "metadata": "{}",
         "name": "country",
         "type": "\"string\""
        },
        {
         "metadata": "{}",
         "name": "row_time",
         "type": "\"timestamp\""
        },
        {
         "metadata": "{}",
         "name": "_change_type",
         "type": "\"string\""
        },
        {
         "metadata": "{}",
         "name": "_commit_version",
         "type": "\"long\""
        },
        {
         "metadata": "{}",
         "name": "_commit_timestamp",
         "type": "\"timestamp\""
        }
       ],
       "type": "table"
      }
     },
     "output_type": "display_data"
    }
   ],
   "source": [
    "cdf_df = (spark.readStream\n",
    "               .format(\"delta\")\n",
    "               .option(\"readChangeData\", True)\n",
    "               .option(\"startingVersion\", 11)\n",
    "               .table(\"customers_silver\"))\n",
    "\n",
    "display(cdf_df)"
   ]
  },
  {
   "cell_type": "markdown",
   "metadata": {
    "application/vnd.databricks.v1+cell": {
     "cellMetadata": {},
     "inputWidgets": {},
     "nuid": "cdab7e69-eeeb-4ec8-91db-8957150ce108",
     "showTitle": false,
     "tableResultSettingsMap": {},
     "title": ""
    }
   },
   "source": [
    "Lets take a look at the table directory in the underlying storage "
   ]
  },
  {
   "cell_type": "code",
   "execution_count": 0,
   "metadata": {
    "application/vnd.databricks.v1+cell": {
     "cellMetadata": {
      "byteLimit": 2048000,
      "rowLimit": 10000
     },
     "inputWidgets": {},
     "nuid": "0b8ae191-42ba-4831-b969-b43fd348917d",
     "showTitle": false,
     "tableResultSettingsMap": {},
     "title": ""
    }
   },
   "outputs": [
    {
     "output_type": "display_data",
     "data": {
      "text/html": [
       "<style scoped>\n",
       "  .table-result-container {\n",
       "    max-height: 300px;\n",
       "    overflow: auto;\n",
       "  }\n",
       "  table, th, td {\n",
       "    border: 1px solid black;\n",
       "    border-collapse: collapse;\n",
       "  }\n",
       "  th, td {\n",
       "    padding: 5px;\n",
       "  }\n",
       "  th {\n",
       "    text-align: left;\n",
       "  }\n",
       "</style><div class='table-result-container'><table class='table-result'><thead style='background-color: white'><tr><th>path</th><th>name</th><th>size</th><th>modificationTime</th></tr></thead><tbody><tr><td>dbfs:/user/hive/warehouse/bookstore_eng_pro.db/customers_silver/_change_data/</td><td>_change_data/</td><td>0</td><td>1741497273348</td></tr><tr><td>dbfs:/user/hive/warehouse/bookstore_eng_pro.db/customers_silver/_delta_log/</td><td>_delta_log/</td><td>0</td><td>1741497273348</td></tr><tr><td>dbfs:/user/hive/warehouse/bookstore_eng_pro.db/customers_silver/part-00000-02402b43-38c0-43b5-8d15-eb5f3c475a52-c000.snappy.parquet</td><td>part-00000-02402b43-38c0-43b5-8d15-eb5f3c475a52-c000.snappy.parquet</td><td>67371</td><td>1731235271000</td></tr><tr><td>dbfs:/user/hive/warehouse/bookstore_eng_pro.db/customers_silver/part-00000-2018a34e-4f32-4642-9476-eeb5ce1e2f8a-c000.snappy.parquet</td><td>part-00000-2018a34e-4f32-4642-9476-eeb5ce1e2f8a-c000.snappy.parquet</td><td>16505</td><td>1731238981000</td></tr><tr><td>dbfs:/user/hive/warehouse/bookstore_eng_pro.db/customers_silver/part-00000-79639f3a-70b1-4663-b58d-9e14b0c45a4b-c000.snappy.parquet</td><td>part-00000-79639f3a-70b1-4663-b58d-9e14b0c45a4b-c000.snappy.parquet</td><td>17167</td><td>1732161738000</td></tr><tr><td>dbfs:/user/hive/warehouse/bookstore_eng_pro.db/customers_silver/part-00000-83448cda-fb63-4a24-8c5d-939f726245ef.c000.snappy.parquet</td><td>part-00000-83448cda-fb63-4a24-8c5d-939f726245ef.c000.snappy.parquet</td><td>17585</td><td>1731236118000</td></tr><tr><td>dbfs:/user/hive/warehouse/bookstore_eng_pro.db/customers_silver/part-00000-949eb1c9-554b-4a34-a3df-b0140579979a-c000.snappy.parquet</td><td>part-00000-949eb1c9-554b-4a34-a3df-b0140579979a-c000.snappy.parquet</td><td>16967</td><td>1731236201000</td></tr><tr><td>dbfs:/user/hive/warehouse/bookstore_eng_pro.db/customers_silver/part-00000-9de67139-c813-471c-b05f-bd4f280041d8-c000.snappy.parquet</td><td>part-00000-9de67139-c813-471c-b05f-bd4f280041d8-c000.snappy.parquet</td><td>66734</td><td>1731236117000</td></tr><tr><td>dbfs:/user/hive/warehouse/bookstore_eng_pro.db/customers_silver/part-00000-c1f948fa-ac5d-4e05-a2d7-c525fdac6355.c000.snappy.parquet</td><td>part-00000-c1f948fa-ac5d-4e05-a2d7-c525fdac6355.c000.snappy.parquet</td><td>17314</td><td>1731236202000</td></tr><tr><td>dbfs:/user/hive/warehouse/bookstore_eng_pro.db/customers_silver/part-00000-daac0cf4-1189-4e81-8a7a-517d5268d89a.c000.snappy.parquet</td><td>part-00000-daac0cf4-1189-4e81-8a7a-517d5268d89a.c000.snappy.parquet</td><td>18030</td><td>1731238982000</td></tr><tr><td>dbfs:/user/hive/warehouse/bookstore_eng_pro.db/customers_silver/part-00000-db4dd3c6-3105-422c-a547-fc2602ce5a4f.c000.snappy.parquet</td><td>part-00000-db4dd3c6-3105-422c-a547-fc2602ce5a4f.c000.snappy.parquet</td><td>29602</td><td>1732161740000</td></tr></tbody></table></div>"
      ]
     },
     "metadata": {
      "application/vnd.databricks.v1+output": {
       "addedWidgets": {},
       "aggData": [],
       "aggError": "",
       "aggOverflow": false,
       "aggSchema": [],
       "aggSeriesLimitReached": false,
       "aggType": "",
       "arguments": {},
       "columnCustomDisplayInfos": {},
       "data": [
        [
         "dbfs:/user/hive/warehouse/bookstore_eng_pro.db/customers_silver/_change_data/",
         "_change_data/",
         0,
         1741497273348
        ],
        [
         "dbfs:/user/hive/warehouse/bookstore_eng_pro.db/customers_silver/_delta_log/",
         "_delta_log/",
         0,
         1741497273348
        ],
        [
         "dbfs:/user/hive/warehouse/bookstore_eng_pro.db/customers_silver/part-00000-02402b43-38c0-43b5-8d15-eb5f3c475a52-c000.snappy.parquet",
         "part-00000-02402b43-38c0-43b5-8d15-eb5f3c475a52-c000.snappy.parquet",
         67371,
         1731235271000
        ],
        [
         "dbfs:/user/hive/warehouse/bookstore_eng_pro.db/customers_silver/part-00000-2018a34e-4f32-4642-9476-eeb5ce1e2f8a-c000.snappy.parquet",
         "part-00000-2018a34e-4f32-4642-9476-eeb5ce1e2f8a-c000.snappy.parquet",
         16505,
         1731238981000
        ],
        [
         "dbfs:/user/hive/warehouse/bookstore_eng_pro.db/customers_silver/part-00000-79639f3a-70b1-4663-b58d-9e14b0c45a4b-c000.snappy.parquet",
         "part-00000-79639f3a-70b1-4663-b58d-9e14b0c45a4b-c000.snappy.parquet",
         17167,
         1732161738000
        ],
        [
         "dbfs:/user/hive/warehouse/bookstore_eng_pro.db/customers_silver/part-00000-83448cda-fb63-4a24-8c5d-939f726245ef.c000.snappy.parquet",
         "part-00000-83448cda-fb63-4a24-8c5d-939f726245ef.c000.snappy.parquet",
         17585,
         1731236118000
        ],
        [
         "dbfs:/user/hive/warehouse/bookstore_eng_pro.db/customers_silver/part-00000-949eb1c9-554b-4a34-a3df-b0140579979a-c000.snappy.parquet",
         "part-00000-949eb1c9-554b-4a34-a3df-b0140579979a-c000.snappy.parquet",
         16967,
         1731236201000
        ],
        [
         "dbfs:/user/hive/warehouse/bookstore_eng_pro.db/customers_silver/part-00000-9de67139-c813-471c-b05f-bd4f280041d8-c000.snappy.parquet",
         "part-00000-9de67139-c813-471c-b05f-bd4f280041d8-c000.snappy.parquet",
         66734,
         1731236117000
        ],
        [
         "dbfs:/user/hive/warehouse/bookstore_eng_pro.db/customers_silver/part-00000-c1f948fa-ac5d-4e05-a2d7-c525fdac6355.c000.snappy.parquet",
         "part-00000-c1f948fa-ac5d-4e05-a2d7-c525fdac6355.c000.snappy.parquet",
         17314,
         1731236202000
        ],
        [
         "dbfs:/user/hive/warehouse/bookstore_eng_pro.db/customers_silver/part-00000-daac0cf4-1189-4e81-8a7a-517d5268d89a.c000.snappy.parquet",
         "part-00000-daac0cf4-1189-4e81-8a7a-517d5268d89a.c000.snappy.parquet",
         18030,
         1731238982000
        ],
        [
         "dbfs:/user/hive/warehouse/bookstore_eng_pro.db/customers_silver/part-00000-db4dd3c6-3105-422c-a547-fc2602ce5a4f.c000.snappy.parquet",
         "part-00000-db4dd3c6-3105-422c-a547-fc2602ce5a4f.c000.snappy.parquet",
         29602,
         1732161740000
        ]
       ],
       "datasetInfos": [],
       "dbfsResultPath": null,
       "isJsonSchema": true,
       "metadata": {},
       "overflow": false,
       "plotOptions": {
        "customPlotOptions": {},
        "displayType": "table",
        "pivotAggregation": null,
        "pivotColumns": null,
        "xColumns": null,
        "yColumns": null
       },
       "removedWidgets": [],
       "schema": [
        {
         "metadata": "{}",
         "name": "path",
         "type": "\"string\""
        },
        {
         "metadata": "{}",
         "name": "name",
         "type": "\"string\""
        },
        {
         "metadata": "{}",
         "name": "size",
         "type": "\"long\""
        },
        {
         "metadata": "{}",
         "name": "modificationTime",
         "type": "\"long\""
        }
       ],
       "type": "table"
      }
     },
     "output_type": "display_data"
    }
   ],
   "source": [
    "files = dbutils.fs.ls(\"dbfs:/user/hive/warehouse/bookstore_eng_pro.db/customers_silver\")\n",
    "display(files)"
   ]
  },
  {
   "cell_type": "code",
   "execution_count": 0,
   "metadata": {
    "application/vnd.databricks.v1+cell": {
     "cellMetadata": {
      "byteLimit": 2048000,
      "rowLimit": 10000
     },
     "inputWidgets": {},
     "nuid": "0f9c52fe-d801-4ac8-9778-d8e6a93ddb4a",
     "showTitle": false,
     "tableResultSettingsMap": {},
     "title": ""
    }
   },
   "outputs": [
    {
     "output_type": "display_data",
     "data": {
      "text/html": [
       "<style scoped>\n",
       "  .table-result-container {\n",
       "    max-height: 300px;\n",
       "    overflow: auto;\n",
       "  }\n",
       "  table, th, td {\n",
       "    border: 1px solid black;\n",
       "    border-collapse: collapse;\n",
       "  }\n",
       "  th, td {\n",
       "    padding: 5px;\n",
       "  }\n",
       "  th {\n",
       "    text-align: left;\n",
       "  }\n",
       "</style><div class='table-result-container'><table class='table-result'><thead style='background-color: white'><tr><th>path</th><th>name</th><th>size</th><th>modificationTime</th></tr></thead><tbody><tr><td>dbfs:/user/hive/warehouse/bookstore_eng_pro.db/customers_silver/_change_data/cdc-00000-07fae1f9-6b5a-4bfb-8145-7d6e8b87733a.c000.snappy.parquet</td><td>cdc-00000-07fae1f9-6b5a-4bfb-8145-7d6e8b87733a.c000.snappy.parquet</td><td>29896</td><td>1732161740000</td></tr><tr><td>dbfs:/user/hive/warehouse/bookstore_eng_pro.db/customers_silver/_change_data/cdc-00000-7673dd2f-d824-48d7-9ba6-72a5d368333e.c000.snappy.parquet</td><td>cdc-00000-7673dd2f-d824-48d7-9ba6-72a5d368333e.c000.snappy.parquet</td><td>17638</td><td>1731236202000</td></tr><tr><td>dbfs:/user/hive/warehouse/bookstore_eng_pro.db/customers_silver/_change_data/cdc-00000-8f29cdd8-29fa-4689-a690-bec27d325251.c000.snappy.parquet</td><td>cdc-00000-8f29cdd8-29fa-4689-a690-bec27d325251.c000.snappy.parquet</td><td>18356</td><td>1731238982000</td></tr><tr><td>dbfs:/user/hive/warehouse/bookstore_eng_pro.db/customers_silver/_change_data/cdc-00000-fdd50a70-1517-4621-9e4b-634897a02c2a.c000.snappy.parquet</td><td>cdc-00000-fdd50a70-1517-4621-9e4b-634897a02c2a.c000.snappy.parquet</td><td>17885</td><td>1731236118000</td></tr></tbody></table></div>"
      ]
     },
     "metadata": {
      "application/vnd.databricks.v1+output": {
       "addedWidgets": {},
       "aggData": [],
       "aggError": "",
       "aggOverflow": false,
       "aggSchema": [],
       "aggSeriesLimitReached": false,
       "aggType": "",
       "arguments": {},
       "columnCustomDisplayInfos": {},
       "data": [
        [
         "dbfs:/user/hive/warehouse/bookstore_eng_pro.db/customers_silver/_change_data/cdc-00000-07fae1f9-6b5a-4bfb-8145-7d6e8b87733a.c000.snappy.parquet",
         "cdc-00000-07fae1f9-6b5a-4bfb-8145-7d6e8b87733a.c000.snappy.parquet",
         29896,
         1732161740000
        ],
        [
         "dbfs:/user/hive/warehouse/bookstore_eng_pro.db/customers_silver/_change_data/cdc-00000-7673dd2f-d824-48d7-9ba6-72a5d368333e.c000.snappy.parquet",
         "cdc-00000-7673dd2f-d824-48d7-9ba6-72a5d368333e.c000.snappy.parquet",
         17638,
         1731236202000
        ],
        [
         "dbfs:/user/hive/warehouse/bookstore_eng_pro.db/customers_silver/_change_data/cdc-00000-8f29cdd8-29fa-4689-a690-bec27d325251.c000.snappy.parquet",
         "cdc-00000-8f29cdd8-29fa-4689-a690-bec27d325251.c000.snappy.parquet",
         18356,
         1731238982000
        ],
        [
         "dbfs:/user/hive/warehouse/bookstore_eng_pro.db/customers_silver/_change_data/cdc-00000-fdd50a70-1517-4621-9e4b-634897a02c2a.c000.snappy.parquet",
         "cdc-00000-fdd50a70-1517-4621-9e4b-634897a02c2a.c000.snappy.parquet",
         17885,
         1731236118000
        ]
       ],
       "datasetInfos": [],
       "dbfsResultPath": null,
       "isJsonSchema": true,
       "metadata": {},
       "overflow": false,
       "plotOptions": {
        "customPlotOptions": {},
        "displayType": "table",
        "pivotAggregation": null,
        "pivotColumns": null,
        "xColumns": null,
        "yColumns": null
       },
       "removedWidgets": [],
       "schema": [
        {
         "metadata": "{}",
         "name": "path",
         "type": "\"string\""
        },
        {
         "metadata": "{}",
         "name": "name",
         "type": "\"string\""
        },
        {
         "metadata": "{}",
         "name": "size",
         "type": "\"long\""
        },
        {
         "metadata": "{}",
         "name": "modificationTime",
         "type": "\"long\""
        }
       ],
       "type": "table"
      }
     },
     "output_type": "display_data"
    }
   ],
   "source": [
    "files = dbutils.fs.ls(\"dbfs:/user/hive/warehouse/bookstore_eng_pro.db/customers_silver/_change_data\")\n",
    "display(files)"
   ]
  },
  {
   "cell_type": "code",
   "execution_count": 0,
   "metadata": {
    "application/vnd.databricks.v1+cell": {
     "cellMetadata": {},
     "inputWidgets": {},
     "nuid": "af4bbc00-6c44-484a-8757-f82389108b37",
     "showTitle": false,
     "tableResultSettingsMap": {},
     "title": ""
    }
   },
   "outputs": [],
   "source": []
  }
 ],
 "metadata": {
  "application/vnd.databricks.v1+notebook": {
   "computePreferences": null,
   "dashboards": [],
   "environmentMetadata": null,
   "language": "python",
   "notebookMetadata": {
    "mostRecentlyExecutedCommandWithImplicitDF": {
     "commandId": 254169017698830,
     "dataframes": [
      "_sqldf"
     ]
    },
    "pythonIndentUnit": 4
   },
   "notebookName": "3.2- CDF",
   "widgets": {}
  },
  "language_info": {
   "name": "python"
  }
 },
 "nbformat": 4,
 "nbformat_minor": 0
}