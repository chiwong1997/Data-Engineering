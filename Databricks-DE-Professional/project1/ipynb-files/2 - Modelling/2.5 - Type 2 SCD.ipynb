{
 "cells": [
  {
   "cell_type": "markdown",
   "metadata": {
    "application/vnd.databricks.v1+cell": {
     "cellMetadata": {},
     "inputWidgets": {},
     "nuid": "396cd935-03c2-4614-bd54-abfa892d1d8a",
     "showTitle": false,
     "tableResultSettingsMap": {},
     "title": ""
    }
   },
   "source": [
    "\n",
    "<div  style=\"text-align: center; line-height: 0; padding-top: 9px;\">\n",
    "  <img src=\"https://raw.githubusercontent.com/derar-alhussein/Databricks-Certified-Data-Engineer-Professional/main/Includes/images/books.png\" width=\"60%\">\n",
    "</div>"
   ]
  },
  {
   "cell_type": "markdown",
   "metadata": {
    "application/vnd.databricks.v1+cell": {
     "cellMetadata": {},
     "inputWidgets": {},
     "nuid": "6ee13a80-db53-4416-a6d4-cf434d2a229f",
     "showTitle": false,
     "tableResultSettingsMap": {},
     "title": ""
    }
   },
   "source": [
    "This notebook focuses on creating the books silver table - we will use a Type2 SCD table to record the data, so we can keep track of the price of the data. "
   ]
  },
  {
   "cell_type": "code",
   "execution_count": 0,
   "metadata": {
    "application/vnd.databricks.v1+cell": {
     "cellMetadata": {
      "byteLimit": 2048000,
      "rowLimit": 10000
     },
     "inputWidgets": {},
     "nuid": "38ba71d1-c2f1-4aee-a645-f66111838943",
     "showTitle": false,
     "tableResultSettingsMap": {},
     "title": ""
    }
   },
   "outputs": [],
   "source": [
    "%run ../Includes/Copy-Datasets"
   ]
  },
  {
   "cell_type": "code",
   "execution_count": 0,
   "metadata": {
    "application/vnd.databricks.v1+cell": {
     "cellMetadata": {},
     "inputWidgets": {},
     "nuid": "3ece52a0-deaf-4101-aa32-22206c1a6972",
     "showTitle": false,
     "tableResultSettingsMap": {},
     "title": ""
    }
   },
   "outputs": [],
   "source": [
    "%sql\n",
    "-- NOTE: This cell contains the SQL query for your reference, and won't work if run directly.\n",
    "-- The query is used below in the type2_upsert() function as part of the foreachBatch call.\n",
    "\n",
    "MERGE INTO books_silver\n",
    "USING (\n",
    "    SELECT updates.book_id as merge_key, updates.*\n",
    "    FROM updates\n",
    "\n",
    "    UNION ALL\n",
    "\n",
    "    SELECT NULL as merge_key, updates.*\n",
    "    FROM updates\n",
    "    JOIN books_silver ON updates.book_id = books_silver.book_id\n",
    "    WHERE books_silver.current = true AND updates.price <> books_silver.price\n",
    "  ) staged_updates\n",
    "ON books_silver.book_id = merge_key \n",
    "WHEN MATCHED AND books_silver.current = true AND books_silver.price <> staged_updates.price THEN\n",
    "  UPDATE SET current = false, end_date = staged_updates.updated\n",
    "WHEN NOT MATCHED THEN\n",
    "  INSERT (book_id, title, author, price, current, effective_date, end_date)\n",
    "  VALUES (staged_updates.book_id, staged_updates.title, staged_updates.author, staged_updates.price, true, staged_updates.updated, NULL)"
   ]
  },
  {
   "cell_type": "code",
   "execution_count": 0,
   "metadata": {
    "application/vnd.databricks.v1+cell": {
     "cellMetadata": {
      "byteLimit": 2048000,
      "rowLimit": 10000
     },
     "inputWidgets": {},
     "nuid": "1289def5-2bbd-4d7c-b92f-a5b6c03ee7b3",
     "showTitle": false,
     "tableResultSettingsMap": {},
     "title": ""
    }
   },
   "outputs": [],
   "source": [
    "def type2_upsert(microBatchDF, batch):\n",
    "    microBatchDF.createOrReplaceTempView(\"updates\")\n",
    "    \n",
    "    sql_query = \"\"\"\n",
    "        MERGE INTO books_silver\n",
    "        USING (\n",
    "            SELECT updates.book_id as merge_key, updates.*\n",
    "            FROM updates\n",
    "\n",
    "            UNION ALL\n",
    "\n",
    "            SELECT NULL as merge_key, updates.*\n",
    "            FROM updates\n",
    "            JOIN books_silver ON updates.book_id = books_silver.book_id\n",
    "            WHERE books_silver.current = true AND updates.price <> books_silver.price\n",
    "          ) staged_updates\n",
    "        ON books_silver.book_id = merge_key \n",
    "        WHEN MATCHED AND books_silver.current = true AND books_silver.price <> staged_updates.price THEN\n",
    "          UPDATE SET current = false, end_date = staged_updates.updated\n",
    "        WHEN NOT MATCHED THEN\n",
    "          INSERT (book_id, title, author, price, current, effective_date, end_date)\n",
    "          VALUES (staged_updates.book_id, staged_updates.title, staged_updates.author, staged_updates.price, true, staged_updates.updated, NULL)\n",
    "    \"\"\"\n",
    "    \n",
    "    microBatchDF.sparkSession.sql(sql_query)"
   ]
  },
  {
   "cell_type": "code",
   "execution_count": 0,
   "metadata": {
    "application/vnd.databricks.v1+cell": {
     "cellMetadata": {
      "byteLimit": 2048000,
      "implicitDf": true,
      "rowLimit": 10000
     },
     "inputWidgets": {},
     "nuid": "12c367a4-896e-484d-9127-44ec873dabab",
     "showTitle": false,
     "tableResultSettingsMap": {},
     "title": ""
    }
   },
   "outputs": [
    {
     "output_type": "display_data",
     "data": {
      "text/html": [
       "<style scoped>\n",
       "  .table-result-container {\n",
       "    max-height: 300px;\n",
       "    overflow: auto;\n",
       "  }\n",
       "  table, th, td {\n",
       "    border: 1px solid black;\n",
       "    border-collapse: collapse;\n",
       "  }\n",
       "  th, td {\n",
       "    padding: 5px;\n",
       "  }\n",
       "  th {\n",
       "    text-align: left;\n",
       "  }\n",
       "</style><div class='table-result-container'><table class='table-result'><thead style='background-color: white'><tr></tr></thead><tbody></tbody></table></div>"
      ]
     },
     "metadata": {
      "application/vnd.databricks.v1+output": {
       "addedWidgets": {},
       "aggData": [],
       "aggError": "",
       "aggOverflow": false,
       "aggSchema": [],
       "aggSeriesLimitReached": false,
       "aggType": "",
       "arguments": {},
       "columnCustomDisplayInfos": {},
       "data": [],
       "datasetInfos": [],
       "dbfsResultPath": null,
       "isJsonSchema": true,
       "metadata": {
        "dataframeName": null
       },
       "overflow": false,
       "plotOptions": {
        "customPlotOptions": {},
        "displayType": "table",
        "pivotAggregation": null,
        "pivotColumns": null,
        "xColumns": null,
        "yColumns": null
       },
       "removedWidgets": [],
       "schema": [],
       "type": "table"
      }
     },
     "output_type": "display_data"
    }
   ],
   "source": [
    "%sql\n",
    "CREATE TABLE IF NOT EXISTS books_silver\n",
    "(book_id STRING, title STRING, author STRING, price DOUBLE, current BOOLEAN, effective_date TIMESTAMP, end_date TIMESTAMP)"
   ]
  },
  {
   "cell_type": "markdown",
   "metadata": {
    "application/vnd.databricks.v1+cell": {
     "cellMetadata": {},
     "inputWidgets": {},
     "nuid": "800336c9-210b-47b6-a6c8-377cf3e8e36e",
     "showTitle": false,
     "tableResultSettingsMap": {},
     "title": ""
    }
   },
   "source": [
    "Execute the streaming query below to process the books data from the bronze table "
   ]
  },
  {
   "cell_type": "code",
   "execution_count": 0,
   "metadata": {
    "application/vnd.databricks.v1+cell": {
     "cellMetadata": {
      "byteLimit": 2048000,
      "rowLimit": 10000
     },
     "inputWidgets": {},
     "nuid": "e0bfca6d-ecd9-4d09-868f-8101effd9c9a",
     "showTitle": false,
     "tableResultSettingsMap": {},
     "title": ""
    }
   },
   "outputs": [],
   "source": [
    "def process_books():\n",
    "    schema = \"book_id STRING, title STRING, author STRING, price DOUBLE, updated TIMESTAMP\"\n",
    " \n",
    "    query = (spark.readStream\n",
    "                    .table(\"bronze\")\n",
    "                    .filter(\"topic = 'books'\")\n",
    "                    .select(F.from_json(F.col(\"value\").cast(\"string\"), schema).alias(\"v\"))\n",
    "                    .select(\"v.*\")\n",
    "                 .writeStream\n",
    "                    .foreachBatch(type2_upsert)\n",
    "                    .option(\"checkpointLocation\", \"dbfs:/mnt/demo_pro/checkpoints/books_silver\")\n",
    "                    .trigger(availableNow=True)\n",
    "                    .start()\n",
    "            )\n",
    "    \n",
    "    query.awaitTermination()\n",
    "    \n",
    "process_books()"
   ]
  },
  {
   "cell_type": "code",
   "execution_count": 0,
   "metadata": {
    "application/vnd.databricks.v1+cell": {
     "cellMetadata": {
      "byteLimit": 2048000,
      "rowLimit": 10000
     },
     "inputWidgets": {},
     "nuid": "69a152e2-f1a4-4b40-8225-ef95b751ea46",
     "showTitle": false,
     "tableResultSettingsMap": {},
     "title": ""
    }
   },
   "outputs": [
    {
     "output_type": "display_data",
     "data": {
      "text/html": [
       "<style scoped>\n",
       "  .table-result-container {\n",
       "    max-height: 300px;\n",
       "    overflow: auto;\n",
       "  }\n",
       "  table, th, td {\n",
       "    border: 1px solid black;\n",
       "    border-collapse: collapse;\n",
       "  }\n",
       "  th, td {\n",
       "    padding: 5px;\n",
       "  }\n",
       "  th {\n",
       "    text-align: left;\n",
       "  }\n",
       "</style><div class='table-result-container'><table class='table-result'><thead style='background-color: white'><tr><th>book_id</th><th>title</th><th>author</th><th>price</th><th>current</th><th>effective_date</th><th>end_date</th></tr></thead><tbody><tr><td>B01</td><td>The Soul of a New Machine</td><td>Tracy Kidder</td><td>49.0</td><td>true</td><td>2021-11-07T17:11:33.507Z</td><td>null</td></tr><tr><td>B02</td><td>Learning JavaScript Design Patterns</td><td>Addy Osmani</td><td>28.0</td><td>true</td><td>2021-11-07T17:11:33.507Z</td><td>null</td></tr><tr><td>B03</td><td>Make Your Own Neural Network</td><td>Tariq Rashid</td><td>35.0</td><td>true</td><td>2021-11-07T17:11:33.507Z</td><td>null</td></tr><tr><td>B04</td><td>Robot Dynamics and Control</td><td>Mark W. Spong</td><td>20.0</td><td>true</td><td>2021-11-08T17:12:05.419Z</td><td>null</td></tr><tr><td>B05</td><td>Fluent Python</td><td>Luciano Ramalho</td><td>47.0</td><td>true</td><td>2021-11-08T17:12:05.419Z</td><td>null</td></tr><tr><td>B06</td><td>Deep Learning with Python</td><td>François Chollet</td><td>22.0</td><td>true</td><td>2021-11-08T17:12:05.419Z</td><td>null</td></tr><tr><td>B07</td><td>The Hundred-Page Machine Learning</td><td>Andriy Burkov</td><td>33.0</td><td>true</td><td>2021-11-09T17:11:49.506Z</td><td>null</td></tr><tr><td>B08</td><td>Quantum Computing for Everyone</td><td>Chris Bernhardt</td><td>41.0</td><td>true</td><td>2021-11-09T17:11:49.506Z</td><td>null</td></tr><tr><td>B09</td><td>Advanced Data Structures</td><td>Peter Brass</td><td>24.0</td><td>true</td><td>2021-11-09T17:11:49.506Z</td><td>null</td></tr><tr><td>B10</td><td>Beginning Database Design Solutions</td><td>Rod Stephens</td><td>44.0</td><td>true</td><td>2021-11-10T16:36:31.241Z</td><td>null</td></tr><tr><td>B11</td><td>Business Intelligence for Dummies</td><td>Swain Scheps</td><td>38.0</td><td>true</td><td>2021-11-10T16:36:31.241Z</td><td>null</td></tr><tr><td>B12</td><td>Big Data in Practice</td><td>Bernard Marr</td><td>30.0</td><td>true</td><td>2021-11-10T16:36:31.241Z</td><td>null</td></tr><tr><td>B13</td><td>Linux pocket guide</td><td>Daniel J. Barrett</td><td>26.0</td><td>false</td><td>2021-11-11T17:12:42.335Z</td><td>2021-11-18T17:12:42.335Z</td></tr><tr><td>B13</td><td>Linux pocket guide</td><td>Daniel J. Barrett</td><td>36.0</td><td>true</td><td>2021-11-18T17:12:42.335Z</td><td>null</td></tr><tr><td>B14</td><td>Data Communications and Networking</td><td>Behrouz A. Forouzan</td><td>34.0</td><td>true</td><td>2021-11-11T17:12:42.335Z</td><td>null</td></tr><tr><td>B15</td><td>Inside the Java Virtual Machine</td><td>Bill Venners</td><td>41.0</td><td>false</td><td>2021-11-11T17:12:42.335Z</td><td>2021-11-18T17:12:42.335Z</td></tr><tr><td>B15</td><td>Inside the Java Virtual Machine</td><td>Bill Venners</td><td>51.0</td><td>true</td><td>2021-11-18T17:12:42.335Z</td><td>null</td></tr><tr><td>B16</td><td>Green for Life</td><td>Victoria Boutenko</td><td>18.0</td><td>false</td><td>2021-11-12T17:12:57.821Z</td><td>2021-11-19T17:12:57.821Z</td></tr><tr><td>B16</td><td>Green for Life</td><td>Victoria Boutenko</td><td>28.0</td><td>true</td><td>2021-11-19T17:12:57.821Z</td><td>null</td></tr><tr><td>B17</td><td>Cooking with Love</td><td>Carla Hall</td><td>23.0</td><td>true</td><td>2021-11-12T17:12:57.821Z</td><td>null</td></tr><tr><td>B18</td><td>Understanding digital signal processing</td><td>Richard Lyons</td><td>35.0</td><td>false</td><td>2021-11-13T17:17:50.236Z</td><td>2021-11-20T17:17:50.236Z</td></tr><tr><td>B18</td><td>Understanding digital signal processing</td><td>Richard Lyons</td><td>45.0</td><td>true</td><td>2021-11-20T17:17:50.236Z</td><td>null</td></tr><tr><td>B19</td><td>Introduction to Modeling and Simulation</td><td>Mark W. Spong</td><td>25.0</td><td>true</td><td>2021-11-14T17:12:42.335Z</td><td>null</td></tr><tr><td>B20</td><td>Robot Modeling and Control</td><td>Mark W. Spong</td><td>30.0</td><td>true</td><td>2021-11-14T17:12:42.335Z</td><td>null</td></tr><tr><td>B21</td><td>Turing's Vision: The Birth of Computer Science</td><td>Chris Bernhardt</td><td>35.0</td><td>false</td><td>2021-11-14T17:12:42.335Z</td><td>2021-11-21T17:12:42.335Z</td></tr><tr><td>B21</td><td>Turing's Vision: The Birth of Computer Science</td><td>Chris Bernhardt</td><td>45.0</td><td>true</td><td>2021-11-21T17:12:42.335Z</td><td>null</td></tr></tbody></table></div>"
      ]
     },
     "metadata": {
      "application/vnd.databricks.v1+output": {
       "addedWidgets": {},
       "aggData": [],
       "aggError": "",
       "aggOverflow": false,
       "aggSchema": [],
       "aggSeriesLimitReached": false,
       "aggType": "",
       "arguments": {},
       "columnCustomDisplayInfos": {},
       "data": [
        [
         "B01",
         "The Soul of a New Machine",
         "Tracy Kidder",
         49.0,
         true,
         "2021-11-07T17:11:33.507Z",
         null
        ],
        [
         "B02",
         "Learning JavaScript Design Patterns",
         "Addy Osmani",
         28.0,
         true,
         "2021-11-07T17:11:33.507Z",
         null
        ],
        [
         "B03",
         "Make Your Own Neural Network",
         "Tariq Rashid",
         35.0,
         true,
         "2021-11-07T17:11:33.507Z",
         null
        ],
        [
         "B04",
         "Robot Dynamics and Control",
         "Mark W. Spong",
         20.0,
         true,
         "2021-11-08T17:12:05.419Z",
         null
        ],
        [
         "B05",
         "Fluent Python",
         "Luciano Ramalho",
         47.0,
         true,
         "2021-11-08T17:12:05.419Z",
         null
        ],
        [
         "B06",
         "Deep Learning with Python",
         "François Chollet",
         22.0,
         true,
         "2021-11-08T17:12:05.419Z",
         null
        ],
        [
         "B07",
         "The Hundred-Page Machine Learning",
         "Andriy Burkov",
         33.0,
         true,
         "2021-11-09T17:11:49.506Z",
         null
        ],
        [
         "B08",
         "Quantum Computing for Everyone",
         "Chris Bernhardt",
         41.0,
         true,
         "2021-11-09T17:11:49.506Z",
         null
        ],
        [
         "B09",
         "Advanced Data Structures",
         "Peter Brass",
         24.0,
         true,
         "2021-11-09T17:11:49.506Z",
         null
        ],
        [
         "B10",
         "Beginning Database Design Solutions",
         "Rod Stephens",
         44.0,
         true,
         "2021-11-10T16:36:31.241Z",
         null
        ],
        [
         "B11",
         "Business Intelligence for Dummies",
         "Swain Scheps",
         38.0,
         true,
         "2021-11-10T16:36:31.241Z",
         null
        ],
        [
         "B12",
         "Big Data in Practice",
         "Bernard Marr",
         30.0,
         true,
         "2021-11-10T16:36:31.241Z",
         null
        ],
        [
         "B13",
         "Linux pocket guide",
         "Daniel J. Barrett",
         26.0,
         false,
         "2021-11-11T17:12:42.335Z",
         "2021-11-18T17:12:42.335Z"
        ],
        [
         "B13",
         "Linux pocket guide",
         "Daniel J. Barrett",
         36.0,
         true,
         "2021-11-18T17:12:42.335Z",
         null
        ],
        [
         "B14",
         "Data Communications and Networking",
         "Behrouz A. Forouzan",
         34.0,
         true,
         "2021-11-11T17:12:42.335Z",
         null
        ],
        [
         "B15",
         "Inside the Java Virtual Machine",
         "Bill Venners",
         41.0,
         false,
         "2021-11-11T17:12:42.335Z",
         "2021-11-18T17:12:42.335Z"
        ],
        [
         "B15",
         "Inside the Java Virtual Machine",
         "Bill Venners",
         51.0,
         true,
         "2021-11-18T17:12:42.335Z",
         null
        ],
        [
         "B16",
         "Green for Life",
         "Victoria Boutenko",
         18.0,
         false,
         "2021-11-12T17:12:57.821Z",
         "2021-11-19T17:12:57.821Z"
        ],
        [
         "B16",
         "Green for Life",
         "Victoria Boutenko",
         28.0,
         true,
         "2021-11-19T17:12:57.821Z",
         null
        ],
        [
         "B17",
         "Cooking with Love",
         "Carla Hall",
         23.0,
         true,
         "2021-11-12T17:12:57.821Z",
         null
        ],
        [
         "B18",
         "Understanding digital signal processing",
         "Richard Lyons",
         35.0,
         false,
         "2021-11-13T17:17:50.236Z",
         "2021-11-20T17:17:50.236Z"
        ],
        [
         "B18",
         "Understanding digital signal processing",
         "Richard Lyons",
         45.0,
         true,
         "2021-11-20T17:17:50.236Z",
         null
        ],
        [
         "B19",
         "Introduction to Modeling and Simulation",
         "Mark W. Spong",
         25.0,
         true,
         "2021-11-14T17:12:42.335Z",
         null
        ],
        [
         "B20",
         "Robot Modeling and Control",
         "Mark W. Spong",
         30.0,
         true,
         "2021-11-14T17:12:42.335Z",
         null
        ],
        [
         "B21",
         "Turing's Vision: The Birth of Computer Science",
         "Chris Bernhardt",
         35.0,
         false,
         "2021-11-14T17:12:42.335Z",
         "2021-11-21T17:12:42.335Z"
        ],
        [
         "B21",
         "Turing's Vision: The Birth of Computer Science",
         "Chris Bernhardt",
         45.0,
         true,
         "2021-11-21T17:12:42.335Z",
         null
        ]
       ],
       "datasetInfos": [],
       "dbfsResultPath": null,
       "isJsonSchema": true,
       "metadata": {},
       "overflow": false,
       "plotOptions": {
        "customPlotOptions": {},
        "displayType": "table",
        "pivotAggregation": null,
        "pivotColumns": null,
        "xColumns": null,
        "yColumns": null
       },
       "removedWidgets": [],
       "schema": [
        {
         "metadata": "{}",
         "name": "book_id",
         "type": "\"string\""
        },
        {
         "metadata": "{}",
         "name": "title",
         "type": "\"string\""
        },
        {
         "metadata": "{}",
         "name": "author",
         "type": "\"string\""
        },
        {
         "metadata": "{}",
         "name": "price",
         "type": "\"double\""
        },
        {
         "metadata": "{}",
         "name": "current",
         "type": "\"boolean\""
        },
        {
         "metadata": "{}",
         "name": "effective_date",
         "type": "\"timestamp\""
        },
        {
         "metadata": "{}",
         "name": "end_date",
         "type": "\"timestamp\""
        }
       ],
       "type": "table"
      }
     },
     "output_type": "display_data"
    }
   ],
   "source": [
    "books_df = spark.read.table(\"books_silver\").orderBy(\"book_id\", \"effective_date\")\n",
    "display(books_df)"
   ]
  },
  {
   "cell_type": "markdown",
   "metadata": {
    "application/vnd.databricks.v1+cell": {
     "cellMetadata": {},
     "inputWidgets": {},
     "nuid": "c155dc7e-a396-4757-a8ad-fa9f4c7abef3",
     "showTitle": false,
     "tableResultSettingsMap": {},
     "title": ""
    }
   },
   "source": [
    "Load some data files with updated books, and process them "
   ]
  },
  {
   "cell_type": "code",
   "execution_count": 0,
   "metadata": {
    "application/vnd.databricks.v1+cell": {
     "cellMetadata": {
      "byteLimit": 2048000,
      "rowLimit": 10000
     },
     "inputWidgets": {},
     "nuid": "c1211156-1b25-42e6-908d-67de1959dc7d",
     "showTitle": false,
     "tableResultSettingsMap": {},
     "title": ""
    }
   },
   "outputs": [
    {
     "output_type": "stream",
     "name": "stdout",
     "output_type": "stream",
     "text": [
      "Loading books-updates-streaming-03.json file to the bookstore dataset\n"
     ]
    }
   ],
   "source": [
    "bookstore.load_books_updates()\n",
    "bookstore.process_bronze()\n",
    "process_books()"
   ]
  },
  {
   "cell_type": "code",
   "execution_count": 0,
   "metadata": {
    "application/vnd.databricks.v1+cell": {
     "cellMetadata": {
      "byteLimit": 2048000,
      "rowLimit": 10000
     },
     "inputWidgets": {},
     "nuid": "21dc16ab-8117-4be8-8dd0-7662d6cc85ec",
     "showTitle": false,
     "tableResultSettingsMap": {},
     "title": ""
    }
   },
   "outputs": [
    {
     "output_type": "display_data",
     "data": {
      "text/html": [
       "<style scoped>\n",
       "  .table-result-container {\n",
       "    max-height: 300px;\n",
       "    overflow: auto;\n",
       "  }\n",
       "  table, th, td {\n",
       "    border: 1px solid black;\n",
       "    border-collapse: collapse;\n",
       "  }\n",
       "  th, td {\n",
       "    padding: 5px;\n",
       "  }\n",
       "  th {\n",
       "    text-align: left;\n",
       "  }\n",
       "</style><div class='table-result-container'><table class='table-result'><thead style='background-color: white'><tr><th>book_id</th><th>title</th><th>author</th><th>price</th><th>current</th><th>effective_date</th><th>end_date</th></tr></thead><tbody><tr><td>B01</td><td>The Soul of a New Machine</td><td>Tracy Kidder</td><td>49.0</td><td>true</td><td>2021-11-07T17:11:33.507Z</td><td>null</td></tr><tr><td>B02</td><td>Learning JavaScript Design Patterns</td><td>Addy Osmani</td><td>28.0</td><td>true</td><td>2021-11-07T17:11:33.507Z</td><td>null</td></tr><tr><td>B03</td><td>Make Your Own Neural Network</td><td>Tariq Rashid</td><td>35.0</td><td>true</td><td>2021-11-07T17:11:33.507Z</td><td>null</td></tr><tr><td>B04</td><td>Robot Dynamics and Control</td><td>Mark W. Spong</td><td>20.0</td><td>true</td><td>2021-11-08T17:12:05.419Z</td><td>null</td></tr><tr><td>B05</td><td>Fluent Python</td><td>Luciano Ramalho</td><td>47.0</td><td>true</td><td>2021-11-08T17:12:05.419Z</td><td>null</td></tr><tr><td>B06</td><td>Deep Learning with Python</td><td>François Chollet</td><td>22.0</td><td>true</td><td>2021-11-08T17:12:05.419Z</td><td>null</td></tr><tr><td>B07</td><td>The Hundred-Page Machine Learning</td><td>Andriy Burkov</td><td>33.0</td><td>true</td><td>2021-11-09T17:11:49.506Z</td><td>null</td></tr><tr><td>B08</td><td>Quantum Computing for Everyone</td><td>Chris Bernhardt</td><td>41.0</td><td>true</td><td>2021-11-09T17:11:49.506Z</td><td>null</td></tr><tr><td>B09</td><td>Advanced Data Structures</td><td>Peter Brass</td><td>24.0</td><td>true</td><td>2021-11-09T17:11:49.506Z</td><td>null</td></tr><tr><td>B10</td><td>Beginning Database Design Solutions</td><td>Rod Stephens</td><td>44.0</td><td>true</td><td>2021-11-10T16:36:31.241Z</td><td>null</td></tr><tr><td>B11</td><td>Business Intelligence for Dummies</td><td>Swain Scheps</td><td>38.0</td><td>true</td><td>2021-11-10T16:36:31.241Z</td><td>null</td></tr><tr><td>B12</td><td>Big Data in Practice</td><td>Bernard Marr</td><td>30.0</td><td>true</td><td>2021-11-10T16:36:31.241Z</td><td>null</td></tr><tr><td>B13</td><td>Linux pocket guide</td><td>Daniel J. Barrett</td><td>26.0</td><td>false</td><td>2021-11-11T17:12:42.335Z</td><td>2021-11-18T17:12:42.335Z</td></tr><tr><td>B13</td><td>Linux pocket guide</td><td>Daniel J. Barrett</td><td>36.0</td><td>false</td><td>2021-11-18T17:12:42.335Z</td><td>2021-11-22T21:12:42.335Z</td></tr><tr><td>B13</td><td>Linux pocket guide</td><td>Daniel J. Barrett</td><td>42.0</td><td>false</td><td>2021-11-22T21:12:42.335Z</td><td>2021-11-27T01:12:42.335Z</td></tr><tr><td>B13</td><td>Linux pocket guide</td><td>Daniel J. Barrett</td><td>47.0</td><td>true</td><td>2021-11-27T01:12:42.335Z</td><td>null</td></tr><tr><td>B14</td><td>Data Communications and Networking</td><td>Behrouz A. Forouzan</td><td>34.0</td><td>true</td><td>2021-11-11T17:12:42.335Z</td><td>null</td></tr><tr><td>B15</td><td>Inside the Java Virtual Machine</td><td>Bill Venners</td><td>41.0</td><td>false</td><td>2021-11-11T17:12:42.335Z</td><td>2021-11-18T17:12:42.335Z</td></tr><tr><td>B15</td><td>Inside the Java Virtual Machine</td><td>Bill Venners</td><td>51.0</td><td>false</td><td>2021-11-18T17:12:42.335Z</td><td>2021-11-22T21:12:42.335Z</td></tr><tr><td>B15</td><td>Inside the Java Virtual Machine</td><td>Bill Venners</td><td>57.0</td><td>false</td><td>2021-11-22T21:12:42.335Z</td><td>2021-11-27T01:12:42.335Z</td></tr><tr><td>B15</td><td>Inside the Java Virtual Machine</td><td>Bill Venners</td><td>62.0</td><td>true</td><td>2021-11-27T01:12:42.335Z</td><td>null</td></tr><tr><td>B16</td><td>Green for Life</td><td>Victoria Boutenko</td><td>18.0</td><td>false</td><td>2021-11-12T17:12:57.821Z</td><td>2021-11-19T17:12:57.821Z</td></tr><tr><td>B16</td><td>Green for Life</td><td>Victoria Boutenko</td><td>28.0</td><td>false</td><td>2021-11-19T17:12:57.821Z</td><td>2021-11-23T21:12:57.821Z</td></tr><tr><td>B16</td><td>Green for Life</td><td>Victoria Boutenko</td><td>34.0</td><td>false</td><td>2021-11-23T21:12:57.821Z</td><td>2021-11-28T01:12:57.821Z</td></tr><tr><td>B16</td><td>Green for Life</td><td>Victoria Boutenko</td><td>39.0</td><td>true</td><td>2021-11-28T01:12:57.821Z</td><td>null</td></tr><tr><td>B17</td><td>Cooking with Love</td><td>Carla Hall</td><td>23.0</td><td>true</td><td>2021-11-12T17:12:57.821Z</td><td>null</td></tr><tr><td>B18</td><td>Understanding digital signal processing</td><td>Richard Lyons</td><td>35.0</td><td>false</td><td>2021-11-13T17:17:50.236Z</td><td>2021-11-20T17:17:50.236Z</td></tr><tr><td>B18</td><td>Understanding digital signal processing</td><td>Richard Lyons</td><td>45.0</td><td>false</td><td>2021-11-20T17:17:50.236Z</td><td>2021-11-24T21:17:50.236Z</td></tr><tr><td>B18</td><td>Understanding digital signal processing</td><td>Richard Lyons</td><td>51.0</td><td>false</td><td>2021-11-24T21:17:50.236Z</td><td>2021-11-29T01:17:50.236Z</td></tr><tr><td>B18</td><td>Understanding digital signal processing</td><td>Richard Lyons</td><td>56.0</td><td>true</td><td>2021-11-29T01:17:50.236Z</td><td>null</td></tr><tr><td>B19</td><td>Introduction to Modeling and Simulation</td><td>Mark W. Spong</td><td>25.0</td><td>true</td><td>2021-11-14T17:12:42.335Z</td><td>null</td></tr><tr><td>B20</td><td>Robot Modeling and Control</td><td>Mark W. Spong</td><td>30.0</td><td>true</td><td>2021-11-14T17:12:42.335Z</td><td>null</td></tr><tr><td>B21</td><td>Turing's Vision: The Birth of Computer Science</td><td>Chris Bernhardt</td><td>35.0</td><td>false</td><td>2021-11-14T17:12:42.335Z</td><td>2021-11-21T17:12:42.335Z</td></tr><tr><td>B21</td><td>Turing's Vision: The Birth of Computer Science</td><td>Chris Bernhardt</td><td>45.0</td><td>false</td><td>2021-11-21T17:12:42.335Z</td><td>2021-11-25T21:12:42.335Z</td></tr><tr><td>B21</td><td>Turing's Vision: The Birth of Computer Science</td><td>Chris Bernhardt</td><td>51.0</td><td>false</td><td>2021-11-25T21:12:42.335Z</td><td>2021-11-30T01:12:42.335Z</td></tr><tr><td>B21</td><td>Turing's Vision: The Birth of Computer Science</td><td>Chris Bernhardt</td><td>56.0</td><td>true</td><td>2021-11-30T01:12:42.335Z</td><td>null</td></tr></tbody></table></div>"
      ]
     },
     "metadata": {
      "application/vnd.databricks.v1+output": {
       "addedWidgets": {},
       "aggData": [],
       "aggError": "",
       "aggOverflow": false,
       "aggSchema": [],
       "aggSeriesLimitReached": false,
       "aggType": "",
       "arguments": {},
       "columnCustomDisplayInfos": {},
       "data": [
        [
         "B01",
         "The Soul of a New Machine",
         "Tracy Kidder",
         49.0,
         true,
         "2021-11-07T17:11:33.507Z",
         null
        ],
        [
         "B02",
         "Learning JavaScript Design Patterns",
         "Addy Osmani",
         28.0,
         true,
         "2021-11-07T17:11:33.507Z",
         null
        ],
        [
         "B03",
         "Make Your Own Neural Network",
         "Tariq Rashid",
         35.0,
         true,
         "2021-11-07T17:11:33.507Z",
         null
        ],
        [
         "B04",
         "Robot Dynamics and Control",
         "Mark W. Spong",
         20.0,
         true,
         "2021-11-08T17:12:05.419Z",
         null
        ],
        [
         "B05",
         "Fluent Python",
         "Luciano Ramalho",
         47.0,
         true,
         "2021-11-08T17:12:05.419Z",
         null
        ],
        [
         "B06",
         "Deep Learning with Python",
         "François Chollet",
         22.0,
         true,
         "2021-11-08T17:12:05.419Z",
         null
        ],
        [
         "B07",
         "The Hundred-Page Machine Learning",
         "Andriy Burkov",
         33.0,
         true,
         "2021-11-09T17:11:49.506Z",
         null
        ],
        [
         "B08",
         "Quantum Computing for Everyone",
         "Chris Bernhardt",
         41.0,
         true,
         "2021-11-09T17:11:49.506Z",
         null
        ],
        [
         "B09",
         "Advanced Data Structures",
         "Peter Brass",
         24.0,
         true,
         "2021-11-09T17:11:49.506Z",
         null
        ],
        [
         "B10",
         "Beginning Database Design Solutions",
         "Rod Stephens",
         44.0,
         true,
         "2021-11-10T16:36:31.241Z",
         null
        ],
        [
         "B11",
         "Business Intelligence for Dummies",
         "Swain Scheps",
         38.0,
         true,
         "2021-11-10T16:36:31.241Z",
         null
        ],
        [
         "B12",
         "Big Data in Practice",
         "Bernard Marr",
         30.0,
         true,
         "2021-11-10T16:36:31.241Z",
         null
        ],
        [
         "B13",
         "Linux pocket guide",
         "Daniel J. Barrett",
         26.0,
         false,
         "2021-11-11T17:12:42.335Z",
         "2021-11-18T17:12:42.335Z"
        ],
        [
         "B13",
         "Linux pocket guide",
         "Daniel J. Barrett",
         36.0,
         false,
         "2021-11-18T17:12:42.335Z",
         "2021-11-22T21:12:42.335Z"
        ],
        [
         "B13",
         "Linux pocket guide",
         "Daniel J. Barrett",
         42.0,
         false,
         "2021-11-22T21:12:42.335Z",
         "2021-11-27T01:12:42.335Z"
        ],
        [
         "B13",
         "Linux pocket guide",
         "Daniel J. Barrett",
         47.0,
         true,
         "2021-11-27T01:12:42.335Z",
         null
        ],
        [
         "B14",
         "Data Communications and Networking",
         "Behrouz A. Forouzan",
         34.0,
         true,
         "2021-11-11T17:12:42.335Z",
         null
        ],
        [
         "B15",
         "Inside the Java Virtual Machine",
         "Bill Venners",
         41.0,
         false,
         "2021-11-11T17:12:42.335Z",
         "2021-11-18T17:12:42.335Z"
        ],
        [
         "B15",
         "Inside the Java Virtual Machine",
         "Bill Venners",
         51.0,
         false,
         "2021-11-18T17:12:42.335Z",
         "2021-11-22T21:12:42.335Z"
        ],
        [
         "B15",
         "Inside the Java Virtual Machine",
         "Bill Venners",
         57.0,
         false,
         "2021-11-22T21:12:42.335Z",
         "2021-11-27T01:12:42.335Z"
        ],
        [
         "B15",
         "Inside the Java Virtual Machine",
         "Bill Venners",
         62.0,
         true,
         "2021-11-27T01:12:42.335Z",
         null
        ],
        [
         "B16",
         "Green for Life",
         "Victoria Boutenko",
         18.0,
         false,
         "2021-11-12T17:12:57.821Z",
         "2021-11-19T17:12:57.821Z"
        ],
        [
         "B16",
         "Green for Life",
         "Victoria Boutenko",
         28.0,
         false,
         "2021-11-19T17:12:57.821Z",
         "2021-11-23T21:12:57.821Z"
        ],
        [
         "B16",
         "Green for Life",
         "Victoria Boutenko",
         34.0,
         false,
         "2021-11-23T21:12:57.821Z",
         "2021-11-28T01:12:57.821Z"
        ],
        [
         "B16",
         "Green for Life",
         "Victoria Boutenko",
         39.0,
         true,
         "2021-11-28T01:12:57.821Z",
         null
        ],
        [
         "B17",
         "Cooking with Love",
         "Carla Hall",
         23.0,
         true,
         "2021-11-12T17:12:57.821Z",
         null
        ],
        [
         "B18",
         "Understanding digital signal processing",
         "Richard Lyons",
         35.0,
         false,
         "2021-11-13T17:17:50.236Z",
         "2021-11-20T17:17:50.236Z"
        ],
        [
         "B18",
         "Understanding digital signal processing",
         "Richard Lyons",
         45.0,
         false,
         "2021-11-20T17:17:50.236Z",
         "2021-11-24T21:17:50.236Z"
        ],
        [
         "B18",
         "Understanding digital signal processing",
         "Richard Lyons",
         51.0,
         false,
         "2021-11-24T21:17:50.236Z",
         "2021-11-29T01:17:50.236Z"
        ],
        [
         "B18",
         "Understanding digital signal processing",
         "Richard Lyons",
         56.0,
         true,
         "2021-11-29T01:17:50.236Z",
         null
        ],
        [
         "B19",
         "Introduction to Modeling and Simulation",
         "Mark W. Spong",
         25.0,
         true,
         "2021-11-14T17:12:42.335Z",
         null
        ],
        [
         "B20",
         "Robot Modeling and Control",
         "Mark W. Spong",
         30.0,
         true,
         "2021-11-14T17:12:42.335Z",
         null
        ],
        [
         "B21",
         "Turing's Vision: The Birth of Computer Science",
         "Chris Bernhardt",
         35.0,
         false,
         "2021-11-14T17:12:42.335Z",
         "2021-11-21T17:12:42.335Z"
        ],
        [
         "B21",
         "Turing's Vision: The Birth of Computer Science",
         "Chris Bernhardt",
         45.0,
         false,
         "2021-11-21T17:12:42.335Z",
         "2021-11-25T21:12:42.335Z"
        ],
        [
         "B21",
         "Turing's Vision: The Birth of Computer Science",
         "Chris Bernhardt",
         51.0,
         false,
         "2021-11-25T21:12:42.335Z",
         "2021-11-30T01:12:42.335Z"
        ],
        [
         "B21",
         "Turing's Vision: The Birth of Computer Science",
         "Chris Bernhardt",
         56.0,
         true,
         "2021-11-30T01:12:42.335Z",
         null
        ]
       ],
       "datasetInfos": [],
       "dbfsResultPath": null,
       "isJsonSchema": true,
       "metadata": {},
       "overflow": false,
       "plotOptions": {
        "customPlotOptions": {},
        "displayType": "table",
        "pivotAggregation": null,
        "pivotColumns": null,
        "xColumns": null,
        "yColumns": null
       },
       "removedWidgets": [],
       "schema": [
        {
         "metadata": "{}",
         "name": "book_id",
         "type": "\"string\""
        },
        {
         "metadata": "{}",
         "name": "title",
         "type": "\"string\""
        },
        {
         "metadata": "{}",
         "name": "author",
         "type": "\"string\""
        },
        {
         "metadata": "{}",
         "name": "price",
         "type": "\"double\""
        },
        {
         "metadata": "{}",
         "name": "current",
         "type": "\"boolean\""
        },
        {
         "metadata": "{}",
         "name": "effective_date",
         "type": "\"timestamp\""
        },
        {
         "metadata": "{}",
         "name": "end_date",
         "type": "\"timestamp\""
        }
       ],
       "type": "table"
      }
     },
     "output_type": "display_data"
    }
   ],
   "source": [
    "books_df = spark.read.table(\"books_silver\").orderBy(\"book_id\", \"effective_date\")\n",
    "display(books_df)"
   ]
  },
  {
   "cell_type": "markdown",
   "metadata": {
    "application/vnd.databricks.v1+cell": {
     "cellMetadata": {},
     "inputWidgets": {},
     "nuid": "6317cf98-a44a-47ba-98b1-954b92086292",
     "showTitle": false,
     "tableResultSettingsMap": {},
     "title": ""
    }
   },
   "source": [
    "We want to create another silver table that will only have the most current books (records) available - we will filter it based on current IS TRUE"
   ]
  },
  {
   "cell_type": "markdown",
   "metadata": {
    "application/vnd.databricks.v1+cell": {
     "cellMetadata": {},
     "inputWidgets": {},
     "nuid": "4be91e60-fa27-437c-949f-c93f09a3d92f",
     "showTitle": false,
     "tableResultSettingsMap": {},
     "title": ""
    }
   },
   "source": [
    "\n",
    "<div  style=\"text-align: center; line-height: 0; padding-top: 9px;\">\n",
    "  <img src=\"https://raw.githubusercontent.com/derar-alhussein/Databricks-Certified-Data-Engineer-Professional/main/Includes/images/current_books.png\" width=\"60%\">\n",
    "</div>"
   ]
  },
  {
   "cell_type": "code",
   "execution_count": 0,
   "metadata": {
    "application/vnd.databricks.v1+cell": {
     "cellMetadata": {
      "byteLimit": 2048000,
      "implicitDf": true,
      "rowLimit": 10000
     },
     "inputWidgets": {},
     "nuid": "5835b83b-9f9a-4a22-87ff-f9c65c3d6c1d",
     "showTitle": false,
     "tableResultSettingsMap": {},
     "title": ""
    }
   },
   "outputs": [
    {
     "output_type": "display_data",
     "data": {
      "text/html": [
       "<style scoped>\n",
       "  .table-result-container {\n",
       "    max-height: 300px;\n",
       "    overflow: auto;\n",
       "  }\n",
       "  table, th, td {\n",
       "    border: 1px solid black;\n",
       "    border-collapse: collapse;\n",
       "  }\n",
       "  th, td {\n",
       "    padding: 5px;\n",
       "  }\n",
       "  th {\n",
       "    text-align: left;\n",
       "  }\n",
       "</style><div class='table-result-container'><table class='table-result'><thead style='background-color: white'><tr><th>num_affected_rows</th><th>num_inserted_rows</th></tr></thead><tbody></tbody></table></div>"
      ]
     },
     "metadata": {
      "application/vnd.databricks.v1+output": {
       "addedWidgets": {},
       "aggData": [],
       "aggError": "",
       "aggOverflow": false,
       "aggSchema": [],
       "aggSeriesLimitReached": false,
       "aggType": "",
       "arguments": {},
       "columnCustomDisplayInfos": {},
       "data": [],
       "datasetInfos": [],
       "dbfsResultPath": null,
       "isJsonSchema": true,
       "metadata": {
        "dataframeName": "_sqldf",
        "executionCount": 16
       },
       "overflow": false,
       "plotOptions": {
        "customPlotOptions": {},
        "displayType": "table",
        "pivotAggregation": null,
        "pivotColumns": null,
        "xColumns": null,
        "yColumns": null
       },
       "removedWidgets": [],
       "schema": [
        {
         "metadata": "{}",
         "name": "num_affected_rows",
         "type": "\"long\""
        },
        {
         "metadata": "{}",
         "name": "num_inserted_rows",
         "type": "\"long\""
        }
       ],
       "type": "table"
      }
     },
     "output_type": "display_data"
    }
   ],
   "source": [
    "%sql\n",
    "CREATE OR REPLACE TABLE current_books\n",
    "AS (\n",
    "   SELECT book_id, title, author, price\n",
    "   FROM books_silver\n",
    "   WHERE current IS TRUE\n",
    "   )"
   ]
  },
  {
   "cell_type": "markdown",
   "metadata": {
    "application/vnd.databricks.v1+cell": {
     "cellMetadata": {},
     "inputWidgets": {},
     "nuid": "ea5727cf-2320-480e-b137-9514a365dc6b",
     "showTitle": false,
     "tableResultSettingsMap": {},
     "title": ""
    }
   },
   "source": [
    "Our silver table only returns the current records, and will have a record of everything that is current in the books table"
   ]
  },
  {
   "cell_type": "code",
   "execution_count": 0,
   "metadata": {
    "application/vnd.databricks.v1+cell": {
     "cellMetadata": {
      "byteLimit": 2048000,
      "implicitDf": true,
      "rowLimit": 10000
     },
     "inputWidgets": {},
     "nuid": "cafc6247-55a3-4da0-9426-96a176e192d8",
     "showTitle": false,
     "tableResultSettingsMap": {},
     "title": ""
    }
   },
   "outputs": [
    {
     "output_type": "display_data",
     "data": {
      "text/html": [
       "<style scoped>\n",
       "  .table-result-container {\n",
       "    max-height: 300px;\n",
       "    overflow: auto;\n",
       "  }\n",
       "  table, th, td {\n",
       "    border: 1px solid black;\n",
       "    border-collapse: collapse;\n",
       "  }\n",
       "  th, td {\n",
       "    padding: 5px;\n",
       "  }\n",
       "  th {\n",
       "    text-align: left;\n",
       "  }\n",
       "</style><div class='table-result-container'><table class='table-result'><thead style='background-color: white'><tr><th>book_id</th><th>title</th><th>author</th><th>price</th></tr></thead><tbody><tr><td>B01</td><td>The Soul of a New Machine</td><td>Tracy Kidder</td><td>49.0</td></tr><tr><td>B02</td><td>Learning JavaScript Design Patterns</td><td>Addy Osmani</td><td>28.0</td></tr><tr><td>B03</td><td>Make Your Own Neural Network</td><td>Tariq Rashid</td><td>35.0</td></tr><tr><td>B04</td><td>Robot Dynamics and Control</td><td>Mark W. Spong</td><td>20.0</td></tr><tr><td>B05</td><td>Fluent Python</td><td>Luciano Ramalho</td><td>47.0</td></tr><tr><td>B06</td><td>Deep Learning with Python</td><td>François Chollet</td><td>22.0</td></tr><tr><td>B07</td><td>The Hundred-Page Machine Learning</td><td>Andriy Burkov</td><td>33.0</td></tr><tr><td>B08</td><td>Quantum Computing for Everyone</td><td>Chris Bernhardt</td><td>41.0</td></tr><tr><td>B09</td><td>Advanced Data Structures</td><td>Peter Brass</td><td>24.0</td></tr><tr><td>B10</td><td>Beginning Database Design Solutions</td><td>Rod Stephens</td><td>44.0</td></tr><tr><td>B11</td><td>Business Intelligence for Dummies</td><td>Swain Scheps</td><td>38.0</td></tr><tr><td>B12</td><td>Big Data in Practice</td><td>Bernard Marr</td><td>30.0</td></tr><tr><td>B13</td><td>Linux pocket guide</td><td>Daniel J. Barrett</td><td>47.0</td></tr><tr><td>B14</td><td>Data Communications and Networking</td><td>Behrouz A. Forouzan</td><td>34.0</td></tr><tr><td>B15</td><td>Inside the Java Virtual Machine</td><td>Bill Venners</td><td>62.0</td></tr><tr><td>B16</td><td>Green for Life</td><td>Victoria Boutenko</td><td>39.0</td></tr><tr><td>B17</td><td>Cooking with Love</td><td>Carla Hall</td><td>23.0</td></tr><tr><td>B18</td><td>Understanding digital signal processing</td><td>Richard Lyons</td><td>56.0</td></tr><tr><td>B19</td><td>Introduction to Modeling and Simulation</td><td>Mark W. Spong</td><td>25.0</td></tr><tr><td>B20</td><td>Robot Modeling and Control</td><td>Mark W. Spong</td><td>30.0</td></tr><tr><td>B21</td><td>Turing's Vision: The Birth of Computer Science</td><td>Chris Bernhardt</td><td>56.0</td></tr></tbody></table></div>"
      ]
     },
     "metadata": {
      "application/vnd.databricks.v1+output": {
       "addedWidgets": {},
       "aggData": [],
       "aggError": "",
       "aggOverflow": false,
       "aggSchema": [],
       "aggSeriesLimitReached": false,
       "aggType": "",
       "arguments": {},
       "columnCustomDisplayInfos": {},
       "data": [
        [
         "B01",
         "The Soul of a New Machine",
         "Tracy Kidder",
         49.0
        ],
        [
         "B02",
         "Learning JavaScript Design Patterns",
         "Addy Osmani",
         28.0
        ],
        [
         "B03",
         "Make Your Own Neural Network",
         "Tariq Rashid",
         35.0
        ],
        [
         "B04",
         "Robot Dynamics and Control",
         "Mark W. Spong",
         20.0
        ],
        [
         "B05",
         "Fluent Python",
         "Luciano Ramalho",
         47.0
        ],
        [
         "B06",
         "Deep Learning with Python",
         "François Chollet",
         22.0
        ],
        [
         "B07",
         "The Hundred-Page Machine Learning",
         "Andriy Burkov",
         33.0
        ],
        [
         "B08",
         "Quantum Computing for Everyone",
         "Chris Bernhardt",
         41.0
        ],
        [
         "B09",
         "Advanced Data Structures",
         "Peter Brass",
         24.0
        ],
        [
         "B10",
         "Beginning Database Design Solutions",
         "Rod Stephens",
         44.0
        ],
        [
         "B11",
         "Business Intelligence for Dummies",
         "Swain Scheps",
         38.0
        ],
        [
         "B12",
         "Big Data in Practice",
         "Bernard Marr",
         30.0
        ],
        [
         "B13",
         "Linux pocket guide",
         "Daniel J. Barrett",
         47.0
        ],
        [
         "B14",
         "Data Communications and Networking",
         "Behrouz A. Forouzan",
         34.0
        ],
        [
         "B15",
         "Inside the Java Virtual Machine",
         "Bill Venners",
         62.0
        ],
        [
         "B16",
         "Green for Life",
         "Victoria Boutenko",
         39.0
        ],
        [
         "B17",
         "Cooking with Love",
         "Carla Hall",
         23.0
        ],
        [
         "B18",
         "Understanding digital signal processing",
         "Richard Lyons",
         56.0
        ],
        [
         "B19",
         "Introduction to Modeling and Simulation",
         "Mark W. Spong",
         25.0
        ],
        [
         "B20",
         "Robot Modeling and Control",
         "Mark W. Spong",
         30.0
        ],
        [
         "B21",
         "Turing's Vision: The Birth of Computer Science",
         "Chris Bernhardt",
         56.0
        ]
       ],
       "datasetInfos": [],
       "dbfsResultPath": null,
       "isJsonSchema": true,
       "metadata": {
        "dataframeName": "_sqldf",
        "executionCount": 17
       },
       "overflow": false,
       "plotOptions": {
        "customPlotOptions": {},
        "displayType": "table",
        "pivotAggregation": null,
        "pivotColumns": null,
        "xColumns": null,
        "yColumns": null
       },
       "removedWidgets": [],
       "schema": [
        {
         "metadata": "{}",
         "name": "book_id",
         "type": "\"string\""
        },
        {
         "metadata": "{}",
         "name": "title",
         "type": "\"string\""
        },
        {
         "metadata": "{}",
         "name": "author",
         "type": "\"string\""
        },
        {
         "metadata": "{}",
         "name": "price",
         "type": "\"double\""
        }
       ],
       "type": "table"
      }
     },
     "output_type": "display_data"
    }
   ],
   "source": [
    "%sql\n",
    "SELECT *\n",
    "FROM current_books\n",
    "ORDER BY book_id"
   ]
  }
 ],
 "metadata": {
  "application/vnd.databricks.v1+notebook": {
   "computePreferences": null,
   "dashboards": [],
   "environmentMetadata": null,
   "language": "python",
   "notebookMetadata": {
    "mostRecentlyExecutedCommandWithImplicitDF": {
     "commandId": 5551765759692078,
     "dataframes": [
      "_sqldf"
     ]
    },
    "pythonIndentUnit": 4
   },
   "notebookName": "2.5 - Type 2 SCD",
   "widgets": {}
  },
  "language_info": {
   "name": "python"
  }
 },
 "nbformat": 4,
 "nbformat_minor": 0
}